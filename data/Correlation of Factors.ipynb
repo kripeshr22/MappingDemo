{
 "cells": [
  {
   "cell_type": "code",
   "execution_count": 1,
   "id": "e5d6b933",
   "metadata": {},
   "outputs": [],
   "source": [
    "import numpy as np\n",
    "import pandas as pd\n",
    "import psycopg2\n",
    "from psycopg2.extras import execute_values"
   ]
  },
  {
   "cell_type": "code",
   "execution_count": 25,
   "id": "633a150f",
   "metadata": {},
   "outputs": [],
   "source": [
    "import matplotlib.pyplot as plt"
   ]
  },
  {
   "cell_type": "code",
   "execution_count": 3,
   "id": "8dd2f3d0",
   "metadata": {},
   "outputs": [
    {
     "name": "stdout",
     "output_type": "stream",
     "text": [
      "successfully connected to database\n"
     ]
    }
   ],
   "source": [
    "# Connect to Heroku database\n",
    "try:\n",
    "        conn = psycopg2.connect(host='ec2-52-201-66-148.compute-1.amazonaws.com', database='d44ns4ruujn4nq', port=5432,\n",
    "                                user='ub5debmb55aodh', password='pe6a56f3002c3f1181d1a34e26d9a90636fdd56e1156bf39a6b8ff158a49bf163')\n",
    "        print(\"successfully connected to database\")\n",
    "except:\n",
    "        print(\"I am unable to connect to the database\")"
   ]
  },
  {
   "cell_type": "code",
   "execution_count": 4,
   "id": "b811749c",
   "metadata": {},
   "outputs": [
    {
     "name": "stdout",
     "output_type": "stream",
     "text": [
      "query successful\n",
      "[('8765001012', '91765-4018', '2021', 'Commercial', '53135', '5361010', '2017', 'Y', '33.985062650000003', '-117.84578183000001'), ('8765001007', '91765-4012', '2021', 'Commercial', '35582', '1548930', '1998', 'Y', '33.984886459999998', '-117.84443419'), ('8765001011', '91765-4022', '2021', 'Commercial', '20748', '2144404', '2017', 'Y', '33.984520269999997', '-117.84567337999999'), ('8765014026', '91765-3479', '2021', 'Commercial', '21300', '2831268', '2014', 'Y', '33.969803720000002', '-117.84968676'), ('8765001010', '91765-4001', '2021', 'Commercial', '9145', '1421739', '2016', 'Y', '33.986564299999998', '-117.84388033'), ('8765001009', '91765-4009', '2021', 'Commercial', '22080', '545804', '1998', 'Y', '33.985976469999997', '-117.8440932'), ('8765001013', '91765-4028', '2021', 'Commercial', '68715', '7000000', '2006', 'Y', '33.984608369999997', '-117.8472929'), ('8765001008', '91765-4015', '2021', 'Commercial', '9230', '715449', '1998', 'Y', '33.985513949999998', '-117.84420249'), ('8761012015', '', '2021', 'Commercial', '0', '2186863', '2019', 'Y', '33.988427969999996', '-117.89380946999999'), ('8760001016', '91748-1428', '2021', 'Commercial', '1398', '35183', '1975', 'Y', '33.9953231', '-117.88468788')]\n"
     ]
    }
   ],
   "source": [
    "# cursor\n",
    "cur = conn.cursor()\n",
    "\n",
    "get_cols_query = \"SELECT * from rawparceltable;\"\n",
    "sample_data = [];\n",
    "try: \n",
    "    cur.execute(get_cols_query)\n",
    "    sample_data = cur.fetchall()\n",
    "    \n",
    "    print(\"query successful\")\n",
    "except:\n",
    "    print(\"query failed\")\n",
    "\n",
    "    \n",
    "print(sample_data[0:10])"
   ]
  },
  {
   "cell_type": "code",
   "execution_count": 5,
   "id": "b40cb836",
   "metadata": {},
   "outputs": [],
   "source": [
    "df = pd.DataFrame(sample_data, columns=['ain','situszip', \n",
    "        'rollyear',\n",
    "        'usecodedescchar1',  \n",
    "        'sqftmain',\n",
    "        'roll_landvalue',\n",
    "        'roll_landbaseyear',  \n",
    "        'istaxableparcel',\n",
    "        'center_lat',\n",
    "        'center_lon'])"
   ]
  },
  {
   "cell_type": "code",
   "execution_count": 6,
   "id": "dfd8651f",
   "metadata": {},
   "outputs": [
    {
     "data": {
      "text/html": [
       "<div>\n",
       "<style scoped>\n",
       "    .dataframe tbody tr th:only-of-type {\n",
       "        vertical-align: middle;\n",
       "    }\n",
       "\n",
       "    .dataframe tbody tr th {\n",
       "        vertical-align: top;\n",
       "    }\n",
       "\n",
       "    .dataframe thead th {\n",
       "        text-align: right;\n",
       "    }\n",
       "</style>\n",
       "<table border=\"1\" class=\"dataframe\">\n",
       "  <thead>\n",
       "    <tr style=\"text-align: right;\">\n",
       "      <th></th>\n",
       "      <th>ain</th>\n",
       "      <th>situszip</th>\n",
       "      <th>rollyear</th>\n",
       "      <th>usecodedescchar1</th>\n",
       "      <th>sqftmain</th>\n",
       "      <th>roll_landvalue</th>\n",
       "      <th>roll_landbaseyear</th>\n",
       "      <th>istaxableparcel</th>\n",
       "      <th>center_lat</th>\n",
       "      <th>center_lon</th>\n",
       "    </tr>\n",
       "  </thead>\n",
       "  <tbody>\n",
       "    <tr>\n",
       "      <th>0</th>\n",
       "      <td>8765001012</td>\n",
       "      <td>91765-4018</td>\n",
       "      <td>2021</td>\n",
       "      <td>Commercial</td>\n",
       "      <td>53135</td>\n",
       "      <td>5361010</td>\n",
       "      <td>2017</td>\n",
       "      <td>Y</td>\n",
       "      <td>33.985062650000003</td>\n",
       "      <td>-117.84578183000001</td>\n",
       "    </tr>\n",
       "    <tr>\n",
       "      <th>1</th>\n",
       "      <td>8765001007</td>\n",
       "      <td>91765-4012</td>\n",
       "      <td>2021</td>\n",
       "      <td>Commercial</td>\n",
       "      <td>35582</td>\n",
       "      <td>1548930</td>\n",
       "      <td>1998</td>\n",
       "      <td>Y</td>\n",
       "      <td>33.984886459999998</td>\n",
       "      <td>-117.84443419</td>\n",
       "    </tr>\n",
       "    <tr>\n",
       "      <th>2</th>\n",
       "      <td>8765001011</td>\n",
       "      <td>91765-4022</td>\n",
       "      <td>2021</td>\n",
       "      <td>Commercial</td>\n",
       "      <td>20748</td>\n",
       "      <td>2144404</td>\n",
       "      <td>2017</td>\n",
       "      <td>Y</td>\n",
       "      <td>33.984520269999997</td>\n",
       "      <td>-117.84567337999999</td>\n",
       "    </tr>\n",
       "    <tr>\n",
       "      <th>3</th>\n",
       "      <td>8765014026</td>\n",
       "      <td>91765-3479</td>\n",
       "      <td>2021</td>\n",
       "      <td>Commercial</td>\n",
       "      <td>21300</td>\n",
       "      <td>2831268</td>\n",
       "      <td>2014</td>\n",
       "      <td>Y</td>\n",
       "      <td>33.969803720000002</td>\n",
       "      <td>-117.84968676</td>\n",
       "    </tr>\n",
       "    <tr>\n",
       "      <th>4</th>\n",
       "      <td>8765001010</td>\n",
       "      <td>91765-4001</td>\n",
       "      <td>2021</td>\n",
       "      <td>Commercial</td>\n",
       "      <td>9145</td>\n",
       "      <td>1421739</td>\n",
       "      <td>2016</td>\n",
       "      <td>Y</td>\n",
       "      <td>33.986564299999998</td>\n",
       "      <td>-117.84388033</td>\n",
       "    </tr>\n",
       "    <tr>\n",
       "      <th>...</th>\n",
       "      <td>...</td>\n",
       "      <td>...</td>\n",
       "      <td>...</td>\n",
       "      <td>...</td>\n",
       "      <td>...</td>\n",
       "      <td>...</td>\n",
       "      <td>...</td>\n",
       "      <td>...</td>\n",
       "      <td>...</td>\n",
       "      <td>...</td>\n",
       "    </tr>\n",
       "    <tr>\n",
       "      <th>887</th>\n",
       "      <td>8640007036</td>\n",
       "      <td>91740-4808</td>\n",
       "      <td>2021</td>\n",
       "      <td>Commercial</td>\n",
       "      <td>1750</td>\n",
       "      <td>151554</td>\n",
       "      <td>2020</td>\n",
       "      <td>Y</td>\n",
       "      <td>34.122579229999999</td>\n",
       "      <td>-117.87144103</td>\n",
       "    </tr>\n",
       "    <tr>\n",
       "      <th>888</th>\n",
       "      <td>8639017015</td>\n",
       "      <td>91741-6205</td>\n",
       "      <td>2021</td>\n",
       "      <td>Commercial</td>\n",
       "      <td>2280</td>\n",
       "      <td>299783</td>\n",
       "      <td>2015</td>\n",
       "      <td>Y</td>\n",
       "      <td>34.130482790000002</td>\n",
       "      <td>-117.86694854</td>\n",
       "    </tr>\n",
       "    <tr>\n",
       "      <th>889</th>\n",
       "      <td>8639001002</td>\n",
       "      <td>91741-4205</td>\n",
       "      <td>2021</td>\n",
       "      <td>Commercial</td>\n",
       "      <td>49920</td>\n",
       "      <td>2621753</td>\n",
       "      <td>2014</td>\n",
       "      <td>Y</td>\n",
       "      <td>34.133712320000001</td>\n",
       "      <td>-117.87195149999999</td>\n",
       "    </tr>\n",
       "    <tr>\n",
       "      <th>890</th>\n",
       "      <td>8643006028</td>\n",
       "      <td>91740-5964</td>\n",
       "      <td>2021</td>\n",
       "      <td>Commercial</td>\n",
       "      <td>3040</td>\n",
       "      <td>110042</td>\n",
       "      <td>1984</td>\n",
       "      <td>Y</td>\n",
       "      <td>34.106922419999997</td>\n",
       "      <td>-117.86699790999999</td>\n",
       "    </tr>\n",
       "    <tr>\n",
       "      <th>891</th>\n",
       "      <td>8643001008</td>\n",
       "      <td>91740-5405</td>\n",
       "      <td>2021</td>\n",
       "      <td>Commercial</td>\n",
       "      <td>6915</td>\n",
       "      <td>123434</td>\n",
       "      <td>1979</td>\n",
       "      <td>Y</td>\n",
       "      <td>34.113610700000002</td>\n",
       "      <td>-117.87220387000001</td>\n",
       "    </tr>\n",
       "  </tbody>\n",
       "</table>\n",
       "<p>892 rows × 10 columns</p>\n",
       "</div>"
      ],
      "text/plain": [
       "            ain    situszip rollyear usecodedescchar1 sqftmain roll_landvalue  \\\n",
       "0    8765001012  91765-4018     2021       Commercial    53135        5361010   \n",
       "1    8765001007  91765-4012     2021       Commercial    35582        1548930   \n",
       "2    8765001011  91765-4022     2021       Commercial    20748        2144404   \n",
       "3    8765014026  91765-3479     2021       Commercial    21300        2831268   \n",
       "4    8765001010  91765-4001     2021       Commercial     9145        1421739   \n",
       "..          ...         ...      ...              ...      ...            ...   \n",
       "887  8640007036  91740-4808     2021       Commercial     1750         151554   \n",
       "888  8639017015  91741-6205     2021       Commercial     2280         299783   \n",
       "889  8639001002  91741-4205     2021       Commercial    49920        2621753   \n",
       "890  8643006028  91740-5964     2021       Commercial     3040         110042   \n",
       "891  8643001008  91740-5405     2021       Commercial     6915         123434   \n",
       "\n",
       "    roll_landbaseyear istaxableparcel          center_lat           center_lon  \n",
       "0                2017               Y  33.985062650000003  -117.84578183000001  \n",
       "1                1998               Y  33.984886459999998        -117.84443419  \n",
       "2                2017               Y  33.984520269999997  -117.84567337999999  \n",
       "3                2014               Y  33.969803720000002        -117.84968676  \n",
       "4                2016               Y  33.986564299999998        -117.84388033  \n",
       "..                ...             ...                 ...                  ...  \n",
       "887              2020               Y  34.122579229999999        -117.87144103  \n",
       "888              2015               Y  34.130482790000002        -117.86694854  \n",
       "889              2014               Y  34.133712320000001  -117.87195149999999  \n",
       "890              1984               Y  34.106922419999997  -117.86699790999999  \n",
       "891              1979               Y  34.113610700000002  -117.87220387000001  \n",
       "\n",
       "[892 rows x 10 columns]"
      ]
     },
     "execution_count": 6,
     "metadata": {},
     "output_type": "execute_result"
    }
   ],
   "source": [
    "df"
   ]
  },
  {
   "cell_type": "code",
   "execution_count": 11,
   "id": "32764544",
   "metadata": {},
   "outputs": [],
   "source": [
    "df['roll_landbaseyear'] = df['roll_landbaseyear'].astype(int)"
   ]
  },
  {
   "cell_type": "code",
   "execution_count": 13,
   "id": "a32d26db",
   "metadata": {},
   "outputs": [],
   "source": [
    "df['rollyear'] = df['rollyear'].astype(int)"
   ]
  },
  {
   "cell_type": "code",
   "execution_count": 18,
   "id": "608eff85",
   "metadata": {},
   "outputs": [],
   "source": [
    "df['roll_landvalue'] = df['roll_landvalue'].astype(float)\n",
    "df['sqftmain'] = df['sqftmain'].astype(float)"
   ]
  },
  {
   "cell_type": "code",
   "execution_count": 16,
   "id": "fae2dcd1",
   "metadata": {},
   "outputs": [
    {
     "data": {
      "text/plain": [
       "0.21031241002173726"
      ]
     },
     "execution_count": 16,
     "metadata": {},
     "output_type": "execute_result"
    }
   ],
   "source": [
    "column_1 = df['roll_landbaseyear']\n",
    "column_2 = df['roll_landvalue']\n",
    "correlation = column_1.corr(column_2)\n",
    "correlation"
   ]
  },
  {
   "cell_type": "code",
   "execution_count": 19,
   "id": "cb90a936",
   "metadata": {},
   "outputs": [
    {
     "data": {
      "text/plain": [
       "0.6616247419108581"
      ]
     },
     "execution_count": 19,
     "metadata": {},
     "output_type": "execute_result"
    }
   ],
   "source": [
    "column_1 = df['sqftmain']\n",
    "column_2 = df['roll_landvalue']\n",
    "correlation = column_1.corr(column_2)\n",
    "correlation"
   ]
  },
  {
   "cell_type": "code",
   "execution_count": 20,
   "id": "d9005e38",
   "metadata": {},
   "outputs": [
    {
     "data": {
      "text/plain": [
       "nan"
      ]
     },
     "execution_count": 20,
     "metadata": {},
     "output_type": "execute_result"
    }
   ],
   "source": [
    "column_1 = df['rollyear']\n",
    "column_2 = df['roll_landvalue']\n",
    "correlation = column_1.corr(column_2)\n",
    "correlation"
   ]
  },
  {
   "cell_type": "code",
   "execution_count": 21,
   "id": "46214ca0",
   "metadata": {},
   "outputs": [
    {
     "data": {
      "text/plain": [
       "0.21031241002173726"
      ]
     },
     "execution_count": 21,
     "metadata": {},
     "output_type": "execute_result"
    }
   ],
   "source": [
    "column_1 = df['roll_landbaseyear']\n",
    "column_2 = df['roll_landvalue']\n",
    "correlation = column_1.corr(column_2)\n",
    "correlation"
   ]
  },
  {
   "cell_type": "code",
   "execution_count": 27,
   "id": "ea68497c",
   "metadata": {},
   "outputs": [
    {
     "data": {
      "text/plain": [
       "<AxesSubplot:xlabel='situszip'>"
      ]
     },
     "execution_count": 27,
     "metadata": {},
     "output_type": "execute_result"
    },
    {
     "data": {
      "image/png": "[encoded data removed]",
      "text/plain": [
       "<Figure size 432x288 with 1 Axes>"
      ]
     },
     "metadata": {
      "needs_background": "light"
     },
     "output_type": "display_data"
    }
   ],
   "source": [
    "df.plot(x='situszip',y='roll_landvalue')"
   ]
  },
  {
   "cell_type": "code",
   "execution_count": null,
   "id": "9a9b72bf",
   "metadata": {},
   "outputs": [],
   "source": []
  }
 ],
 "metadata": {
  "kernelspec": {
   "display_name": "Python 3.8.2 64-bit",
   "language": "python",
   "name": "python382jvsc74a57bd031f2aee4e71d21fbe5cf8b01ff0e069b9275f58929596ceb00d14d90e3e16cd6"
  },
  "language_info": {
   "codemirror_mode": {
    "name": "ipython",
    "version": 3
   },
   "file_extension": ".py",
   "mimetype": "text/x-python",
   "name": "python",
   "nbconvert_exporter": "python",
   "pygments_lexer": "ipython3",
   "version": "3.8.2"
  }
 },
 "nbformat": 4,
 "nbformat_minor": 5
}
