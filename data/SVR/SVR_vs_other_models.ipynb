{
 "cells": [
  {
   "cell_type": "markdown",
   "metadata": {},
   "source": [
    "get data from local database "
   ]
  },
  {
   "cell_type": "code",
   "execution_count": 5,
   "metadata": {},
   "outputs": [
    {
     "name": "stderr",
     "output_type": "stream",
     "text": [
      "Matplotlib is building the font cache; this may take a moment.\n"
     ]
    },
    {
     "name": "stdout",
     "output_type": "stream",
     "text": [
      "successfully connected to database\n",
      "\n"
     ]
    },
    {
     "name": "stderr",
     "output_type": "stream",
     "text": [
      "/var/folders/h_/zfsm4hzn4gvfpzmqq5knct040000gn/T/ipykernel_19398/4150640917.py:26: FutureWarning: In a future version of pandas all arguments of DataFrame.drop except for the argument 'labels' will be keyword-only\n",
      "  df = df.drop(drop_cols, 1)\n"
     ]
    },
    {
     "name": "stdout",
     "output_type": "stream",
     "text": [
      "# of parcels updated in 2020:  140\n",
      "# of parcels updated in 2021:  36\n",
      "total # of parcels in table:  40086\n"
     ]
    },
    {
     "data": {
      "image/png": "[encoded data removed]",
      "text/plain": [
       "<Figure size 432x288 with 1 Axes>"
      ]
     },
     "metadata": {
      "needs_background": "light"
     },
     "output_type": "display_data"
    }
   ],
   "source": [
    "# %%time\n",
    "import pandas as pd\n",
    "import psycopg2\n",
    "import os\n",
    "from sklearn.model_selection import train_test_split\n",
    "import numpy as np\n",
    "import matplotlib.pyplot as plt\n",
    "%matplotlib inline\n",
    "\n",
    "\n",
    "# read data from local psql database into pd dataframe\n",
    "try:\n",
    "    conn = psycopg2.connect(database='parcelDatabase', user=os.getenv(\n",
    "        \"USER\"), password=os.getenv(\"PASSWORD\"))\n",
    "    print(\"successfully connected to database\")\n",
    "except:\n",
    "    print(\"I am unable to connect to the database\")\n",
    "df = pd.read_sql_query('select * from \"svr_table_2\"', con=conn)\n",
    "\n",
    "# print(df.head())\n",
    "print(df.iloc[0].situszip5)\n",
    "\n",
    "# taking out irrelevant columns and cols related to building/development on land. Usecode is relevant col but dropping\n",
    "# b/c we can't parse it rn\n",
    "drop_cols = ['istaxableparcel', 'usecodedescchar1', 'usecodedescchar2', 'yearbuilt', 'effectiveyearbuilt', 'usecode']\n",
    "df = df.drop(drop_cols, 1)\n",
    "\n",
    "# convert columns of df to numeric\n",
    "numeric_cols = [\"roll_landbaseyear\", \"taxratearea\", \n",
    "                \"center_lat\", \"cluster\", \"situszip5\",\n",
    "                \"center_lon\", \"roll_landvalue\", \"sqftmain\"]\n",
    "df[numeric_cols] = df[numeric_cols].apply(pd.to_numeric)\n",
    "\n",
    "\n",
    "# some basic visuals on distr of the land base year\n",
    "df.hist(column=\"roll_landbaseyear\", range=[1970, 2025], bins=51)\n",
    "\n",
    "df_updated_2020 = df[df[\"roll_landbaseyear\"] == 2020]\n",
    "df_updated_2021 = df[df[\"roll_landbaseyear\"] == 2021]\n",
    "\n",
    "print(\"# of parcels updated in 2020: \", len(df_updated_2020))\n",
    "print(\"# of parcels updated in 2021: \", len(df_updated_2021))\n",
    "print(\"total # of parcels in table: \", len(df))\n"
   ]
  },
  {
   "cell_type": "code",
   "execution_count": 13,
   "metadata": {},
   "outputs": [
    {
     "name": "stdout",
     "output_type": "stream",
     "text": [
      "Package           Version\r\n",
      "----------------- -------\r\n",
      "appnope           0.1.2\r\n",
      "autopep8          1.5.7\r\n",
      "backcall          0.2.0\r\n",
      "cycler            0.11.0\r\n",
      "debugpy           1.5.1\r\n",
      "decorator         5.1.0\r\n",
      "entrypoints       0.3\r\n",
      "ipykernel         6.5.0\r\n",
      "ipython           7.28.0\r\n",
      "ipython-genutils  0.2.0\r\n",
      "jedi              0.18.0\r\n",
      "joblib            1.1.0\r\n",
      "jupyter-client    7.0.6\r\n",
      "jupyter-core      4.9.1\r\n",
      "kiwisolver        1.3.2\r\n",
      "matplotlib        3.4.3\r\n",
      "matplotlib-inline 0.1.3\r\n",
      "nest-asyncio      1.5.1\r\n",
      "numpy             1.21.2\r\n",
      "pandas            1.3.4\r\n",
      "parso             0.8.2\r\n",
      "pexpect           4.8.0\r\n",
      "pickleshare       0.7.5\r\n",
      "Pillow            8.4.0\r\n",
      "pip               21.3.1\r\n",
      "plotly            5.3.1\r\n",
      "prompt-toolkit    3.0.21\r\n",
      "psycopg2          2.9.1\r\n",
      "ptyprocess        0.7.0\r\n",
      "pybind11          2.7.1\r\n",
      "pycodestyle       2.7.0\r\n",
      "Pygments          2.10.0\r\n",
      "pyparsing         3.0.4\r\n",
      "python-dateutil   2.8.2\r\n",
      "pytz              2021.3\r\n",
      "pyzmq             22.3.0\r\n",
      "scikit-learn      1.0.1\r\n",
      "scipy             1.7.1\r\n",
      "seaborn           0.11.2\r\n",
      "setuptools        57.4.0\r\n",
      "six               1.16.0\r\n",
      "sklearn-pandas    1.5.0\r\n",
      "tenacity          8.0.1\r\n",
      "threadpoolctl     3.0.0\r\n",
      "toml              0.10.2\r\n",
      "tornado           6.1\r\n",
      "traitlets         5.1.1\r\n",
      "wcwidth           0.2.5\r\n",
      "wheel             0.37.0\r\n"
     ]
    }
   ],
   "source": [
    "!pip list"
   ]
  },
  {
   "cell_type": "code",
   "execution_count": 16,
   "metadata": {},
   "outputs": [
    {
     "name": "stdout",
     "output_type": "stream",
     "text": [
      "\u001b[33mDEPRECATION: Configuring installation scheme with distutils config files is deprecated and will no longer work in the near future. If you are using a Homebrew or Linuxbrew Python, please see discussion at https://github.com/Homebrew/homebrew-core/issues/76621\u001b[0m\n",
      "Requirement already satisfied: sklearn_pandas in /usr/local/lib/python3.9/site-packages (1.5.0)\n",
      "Collecting sklearn_pandas\n",
      "  Downloading sklearn_pandas-2.2.0-py2.py3-none-any.whl (10 kB)\n",
      "Requirement already satisfied: scikit-learn>=0.23.0 in /usr/local/lib/python3.9/site-packages (from sklearn_pandas) (1.0.1)\n",
      "Requirement already satisfied: numpy>=1.18.1 in /usr/local/lib/python3.9/site-packages (from sklearn_pandas) (1.21.2)\n",
      "Requirement already satisfied: pandas>=1.1.4 in /usr/local/lib/python3.9/site-packages (from sklearn_pandas) (1.3.4)\n",
      "Requirement already satisfied: scipy>=1.5.1 in /usr/local/lib/python3.9/site-packages (from sklearn_pandas) (1.7.1)\n",
      "Requirement already satisfied: python-dateutil>=2.7.3 in /usr/local/lib/python3.9/site-packages (from pandas>=1.1.4->sklearn_pandas) (2.8.2)\n",
      "Requirement already satisfied: pytz>=2017.3 in /usr/local/lib/python3.9/site-packages (from pandas>=1.1.4->sklearn_pandas) (2021.3)\n",
      "Requirement already satisfied: threadpoolctl>=2.0.0 in /usr/local/lib/python3.9/site-packages (from scikit-learn>=0.23.0->sklearn_pandas) (3.0.0)\n",
      "Requirement already satisfied: joblib>=0.11 in /usr/local/lib/python3.9/site-packages (from scikit-learn>=0.23.0->sklearn_pandas) (1.1.0)\n",
      "Requirement already satisfied: six>=1.5 in /usr/local/lib/python3.9/site-packages (from python-dateutil>=2.7.3->pandas>=1.1.4->sklearn_pandas) (1.16.0)\n",
      "Installing collected packages: sklearn-pandas\n",
      "  Attempting uninstall: sklearn-pandas\n",
      "    Found existing installation: sklearn-pandas 1.5.0\n",
      "    Uninstalling sklearn-pandas-1.5.0:\n",
      "      Successfully uninstalled sklearn-pandas-1.5.0\n",
      "\u001b[33mDEPRECATION: Configuring installation scheme with distutils config files is deprecated and will no longer work in the near future. If you are using a Homebrew or Linuxbrew Python, please see discussion at https://github.com/Homebrew/homebrew-core/issues/76621\u001b[0m\n",
      "Successfully installed sklearn-pandas-2.2.0\n"
     ]
    }
   ],
   "source": [
    "# !pip install sklearn_pandas\n",
    "!pip3 install -U sklearn_pandas"
   ]
  },
  {
   "cell_type": "markdown",
   "metadata": {},
   "source": [
    "based on this reference: https://www.kaggle.com/gauthampughazh/house-sales-price-prediction-svr/notebook"
   ]
  },
  {
   "cell_type": "code",
   "execution_count": 12,
   "metadata": {},
   "outputs": [
    {
     "ename": "ImportError",
     "evalue": "cannot import name 'CategoricalImputer' from 'sklearn_pandas' (/usr/local/lib/python3.9/site-packages/sklearn_pandas/__init__.py)",
     "output_type": "error",
     "traceback": [
      "\u001b[0;31m---------------------------------------------------------------------------\u001b[0m",
      "\u001b[0;31mImportError\u001b[0m                               Traceback (most recent call last)",
      "\u001b[0;32m<timed exec>\u001b[0m in \u001b[0;36m<module>\u001b[0;34m\u001b[0m\n",
      "\u001b[0;31mImportError\u001b[0m: cannot import name 'CategoricalImputer' from 'sklearn_pandas' (/usr/local/lib/python3.9/site-packages/sklearn_pandas/__init__.py)"
     ]
    }
   ],
   "source": [
    "%%time\n",
    "import plotly.graph_objects as go\n",
    "import plotly.express as px\n",
    "import seaborn as sns\n",
    "from sklearn.impute import SimpleImputer\n",
    "from sklearn_pandas import CategoricalImputer\n",
    "from sklearn.preprocessing import StandardScaler, MinMaxScaler\n",
    "from sklearn.preprocessing import OneHotEncoder\n",
    "from sklearn.model_selection import RandomizedSearchCV\n",
    "from sklearn.model_selection import cross_val_score\n",
    "from sklearn.svm import SVR\n",
    "from sklearn.ensemble import RandomForestRegressor, AdaBoostRegressor, GradientBoostingRegressor\n",
    "from IPython.display import FileLink\n"
   ]
  },
  {
   "cell_type": "code",
   "execution_count": 19,
   "metadata": {},
   "outputs": [
    {
     "data": {
      "text/plain": [
       "'/Users/yurynamgung/anaconda/bin/python'"
      ]
     },
     "execution_count": 19,
     "metadata": {},
     "output_type": "execute_result"
    }
   ],
   "source": [
    "import sys\n",
    "sys.executable"
   ]
  },
  {
   "cell_type": "code",
   "execution_count": null,
   "metadata": {},
   "outputs": [],
   "source": [
    "\n",
    "# split data into test and train\n",
    "train_df, test_df = train_test_split(df, test_size=0.2)\n",
    "\n",
    "# get correlation matrix\n",
    "corr_matrix = train_df.corr()\n",
    "fig, ax = plt.subplots(figsize=(15, 12))\n",
    "sns.heatmap(corr_matrix, vmax=0.8, square=True)\n",
    "plt.show()\n"
   ]
  },
  {
   "cell_type": "code",
   "execution_count": null,
   "metadata": {},
   "outputs": [],
   "source": []
  }
 ],
 "metadata": {
  "interpreter": {
   "hash": "ea26437821ed2593c5c88f415e48ff23c438f4666c7c8f8c20b16c35229502ea"
  },
  "kernelspec": {
   "display_name": "Python 3.6.2 64-bit ('base': conda)",
   "name": "python3"
  },
  "language_info": {
   "codemirror_mode": {
    "name": "ipython",
    "version": 3
   },
   "file_extension": ".py",
   "mimetype": "text/x-python",
   "name": "python",
   "nbconvert_exporter": "python",
   "pygments_lexer": "ipython3",
   "version": "3.6.2"
  }
 },
 "nbformat": 4,
 "nbformat_minor": 2
}
