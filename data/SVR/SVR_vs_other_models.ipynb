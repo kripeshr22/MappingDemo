{
 "cells": [
  {
   "cell_type": "markdown",
   "metadata": {},
   "source": [
    "get data from local database "
   ]
  },
  {
   "cell_type": "code",
   "execution_count": 1,
   "metadata": {
    "collapsed": false,
    "scrolled": true
   },
   "outputs": [
    {
     "name": "stdout",
     "output_type": "stream",
     "text": [
      "successfully connected to database\n",
      "90065\n",
      "('# of parcels updated in 2020: ', 108)\n",
      "('# of parcels updated in 2021: ', 27)\n",
      "('total # of parcels in table: ', 29700)\n"
     ]
    },
    {
     "data": {
      "text/html": [
       "<div>\n",
       "<style scoped>\n",
       "    .dataframe tbody tr th:only-of-type {\n",
       "        vertical-align: middle;\n",
       "    }\n",
       "\n",
       "    .dataframe tbody tr th {\n",
       "        vertical-align: top;\n",
       "    }\n",
       "\n",
       "    .dataframe thead th {\n",
       "        text-align: right;\n",
       "    }\n",
       "</style>\n",
       "<table border=\"1\" class=\"dataframe\">\n",
       "  <thead>\n",
       "    <tr style=\"text-align: right;\">\n",
       "      <th></th>\n",
       "      <th>ain</th>\n",
       "      <th>taxratearea</th>\n",
       "      <th>usecode</th>\n",
       "      <th>yearbuilt</th>\n",
       "      <th>effectiveyearbuilt</th>\n",
       "      <th>sqftmain</th>\n",
       "      <th>roll_landvalue</th>\n",
       "      <th>roll_landbaseyear</th>\n",
       "      <th>cluster</th>\n",
       "      <th>situszip5</th>\n",
       "      <th>center_lat</th>\n",
       "      <th>center_lon</th>\n",
       "      <th>landvalue_per_sqft</th>\n",
       "    </tr>\n",
       "  </thead>\n",
       "  <tbody>\n",
       "    <tr>\n",
       "      <th>0</th>\n",
       "      <td>5454027038</td>\n",
       "      <td>4</td>\n",
       "      <td>1100</td>\n",
       "      <td>1994</td>\n",
       "      <td>1994</td>\n",
       "      <td>779</td>\n",
       "      <td>65955.0</td>\n",
       "      <td>1987</td>\n",
       "      <td>27680</td>\n",
       "      <td>90065</td>\n",
       "      <td>34.095796</td>\n",
       "      <td>-118.228163</td>\n",
       "      <td>84.666239</td>\n",
       "    </tr>\n",
       "    <tr>\n",
       "      <th>1</th>\n",
       "      <td>6052030026</td>\n",
       "      <td>461</td>\n",
       "      <td>1100</td>\n",
       "      <td>1964</td>\n",
       "      <td>1964</td>\n",
       "      <td>1000</td>\n",
       "      <td>8339.0</td>\n",
       "      <td>1975</td>\n",
       "      <td>26631</td>\n",
       "      <td>90003</td>\n",
       "      <td>33.947870</td>\n",
       "      <td>-118.265508</td>\n",
       "      <td>8.339000</td>\n",
       "    </tr>\n",
       "    <tr>\n",
       "      <th>2</th>\n",
       "      <td>5359005001</td>\n",
       "      <td>1797</td>\n",
       "      <td>1100</td>\n",
       "      <td>1961</td>\n",
       "      <td>1961</td>\n",
       "      <td>612</td>\n",
       "      <td>61899.0</td>\n",
       "      <td>1975</td>\n",
       "      <td>27630</td>\n",
       "      <td>91801</td>\n",
       "      <td>34.078510</td>\n",
       "      <td>-118.118021</td>\n",
       "      <td>101.142157</td>\n",
       "    </tr>\n",
       "    <tr>\n",
       "      <th>3</th>\n",
       "      <td>4231018015</td>\n",
       "      <td>67</td>\n",
       "      <td>1100</td>\n",
       "      <td>1949</td>\n",
       "      <td>1949</td>\n",
       "      <td>621</td>\n",
       "      <td>31585.0</td>\n",
       "      <td>1975</td>\n",
       "      <td>25691</td>\n",
       "      <td>90066</td>\n",
       "      <td>33.996502</td>\n",
       "      <td>-118.428373</td>\n",
       "      <td>50.861514</td>\n",
       "    </tr>\n",
       "    <tr>\n",
       "      <th>4</th>\n",
       "      <td>4263011036</td>\n",
       "      <td>67</td>\n",
       "      <td>2500</td>\n",
       "      <td>1987</td>\n",
       "      <td>1987</td>\n",
       "      <td>975</td>\n",
       "      <td>1828489.0</td>\n",
       "      <td>2000</td>\n",
       "      <td>23687</td>\n",
       "      <td>90025</td>\n",
       "      <td>34.049304</td>\n",
       "      <td>-118.460372</td>\n",
       "      <td>1875.373333</td>\n",
       "    </tr>\n",
       "  </tbody>\n",
       "</table>\n",
       "</div>"
      ],
      "text/plain": [
       "          ain  taxratearea usecode  yearbuilt  effectiveyearbuilt  sqftmain  \\\n",
       "0  5454027038            4    1100       1994                1994       779   \n",
       "1  6052030026          461    1100       1964                1964      1000   \n",
       "2  5359005001         1797    1100       1961                1961       612   \n",
       "3  4231018015           67    1100       1949                1949       621   \n",
       "4  4263011036           67    2500       1987                1987       975   \n",
       "\n",
       "   roll_landvalue  roll_landbaseyear  cluster  situszip5  center_lat  \\\n",
       "0         65955.0               1987    27680      90065   34.095796   \n",
       "1          8339.0               1975    26631      90003   33.947870   \n",
       "2         61899.0               1975    27630      91801   34.078510   \n",
       "3         31585.0               1975    25691      90066   33.996502   \n",
       "4       1828489.0               2000    23687      90025   34.049304   \n",
       "\n",
       "   center_lon  landvalue_per_sqft  \n",
       "0 -118.228163           84.666239  \n",
       "1 -118.265508            8.339000  \n",
       "2 -118.118021          101.142157  \n",
       "3 -118.428373           50.861514  \n",
       "4 -118.460372         1875.373333  "
      ]
     },
     "execution_count": 1,
     "metadata": {},
     "output_type": "execute_result"
    },
    {
     "data": {
      "image/png": "[encoded data removed]",
      "text/plain": [
       "<Figure size 432x288 with 1 Axes>"
      ]
     },
     "metadata": {
      "needs_background": "light"
     },
     "output_type": "display_data"
    }
   ],
   "source": [
    "# %%time\n",
    "import pandas as pd\n",
    "import psycopg2\n",
    "import os\n",
    "from sklearn.model_selection import train_test_split\n",
    "import numpy as np\n",
    "import matplotlib.pyplot as plt\n",
    "%matplotlib inline\n",
    "\n",
    "\n",
    "# read data from local psql database into pd dataframe\n",
    "try:\n",
    "    #conn = psycopg2.connect(database='parcelDatabase', user=os.getenv(\n",
    "    #    \"USER\"), password=os.getenv(\"PASSWORD\"))\n",
    "    conn = psycopg2.connect(database='parceldatabase', user=\"newuser\", password=\"password\")\n",
    "    print(\"successfully connected to database\")\n",
    "except:\n",
    "    print(\"I am unable to connect to the database\")\n",
    "df = pd.read_sql_query('select * from \"svr_table_2\"', con=conn)\n",
    "\n",
    "# print(df.head())\n",
    "print(df.iloc[0].situszip5)\n",
    "\n",
    "# taking out irrelevant columns and cols related to building/development on land. Usecode is relevant col but dropping\n",
    "# b/c we can't parse it rn\n",
    "# usecode - has letters too\n",
    "drop_cols = ['istaxableparcel', 'usecodedescchar1', 'usecodedescchar2']\n",
    "\n",
    "cat_cols = ['usecode']\n",
    "\n",
    "df = df.drop(drop_cols, 1)\n",
    "\n",
    "# convert columns of df to numeric\n",
    "numeric_cols = [\"roll_landbaseyear\", \"taxratearea\", \n",
    "                \"center_lat\", \"cluster\", \"situszip5\",\n",
    "                \"center_lon\", \"roll_landvalue\", \"sqftmain\", \n",
    "                \"effectiveyearbuilt\", \"yearbuilt\"]\n",
    "df[numeric_cols] = df[numeric_cols].apply(pd.to_numeric)\n",
    "\n",
    "#  add land value per sqft column\n",
    "df['landvalue_per_sqft'] = df['roll_landvalue'] / df['sqftmain']\n",
    "\n",
    "# some basic visuals on distr of the land base year\n",
    "df.hist(column=\"roll_landbaseyear\", range=[1970, 2025], bins=51)\n",
    "\n",
    "df_updated_2020 = df[df[\"roll_landbaseyear\"] == 2020]\n",
    "df_updated_2021 = df[df[\"roll_landbaseyear\"] == 2021]\n",
    "\n",
    "print(\"# of parcels updated in 2020: \", len(df_updated_2020))\n",
    "print(\"# of parcels updated in 2021: \", len(df_updated_2021))\n",
    "print(\"total # of parcels in table: \", len(df))\n",
    "df.head()\n"
   ]
  },
  {
   "cell_type": "code",
   "execution_count": null,
   "metadata": {
    "collapsed": true
   },
   "outputs": [],
   "source": [
    "# !pip install sklearn_pandas\n",
    "!pip3 install -U sklearn_pandas"
   ]
  },
  {
   "cell_type": "markdown",
   "metadata": {},
   "source": [
    "based on this reference: https://www.kaggle.com/gauthampughazh/house-sales-price-prediction-svr/notebook"
   ]
  },
  {
   "cell_type": "code",
   "execution_count": 2,
   "metadata": {
    "collapsed": true
   },
   "outputs": [
    {
     "name": "stdout",
     "output_type": "stream",
     "text": [
      "CPU times: user 466 ms, sys: 479 ms, total: 945 ms\n",
      "Wall time: 1.6 s\n"
     ]
    }
   ],
   "source": [
    "%%time\n",
    "import plotly.graph_objects as go\n",
    "import plotly.express as px\n",
    "import seaborn as sns\n",
    "from sklearn.impute import SimpleImputer\n",
    "from sklearn_pandas import CategoricalImputer\n",
    "from sklearn.preprocessing import StandardScaler, MinMaxScaler\n",
    "from sklearn.preprocessing import OneHotEncoder\n",
    "from sklearn.model_selection import RandomizedSearchCV\n",
    "from sklearn.model_selection import cross_val_score\n",
    "from sklearn.svm import SVR\n",
    "from sklearn.ensemble import RandomForestRegressor, AdaBoostRegressor, GradientBoostingRegressor\n",
    "from IPython.display import FileLink\n",
    "#from sklearn.cross_validation import train_test_split\n"
   ]
  },
  {
   "cell_type": "code",
   "execution_count": 3,
   "metadata": {
    "collapsed": true
   },
   "outputs": [
    {
     "data": {
      "image/png": "[encoded data removed]",
      "text/plain": [
       "<Figure size 1080x864 with 2 Axes>"
      ]
     },
     "metadata": {
      "needs_background": "light"
     },
     "output_type": "display_data"
    }
   ],
   "source": [
    "\n",
    "# split data into test and train\n",
    "train_df, test_df = train_test_split(df, test_size=0.2)\n",
    "\n",
    "# get correlation matrix\n",
    "corr_matrix = train_df.corr()\n",
    "fig, ax = plt.subplots(figsize=(15, 12))\n",
    "sns.heatmap(corr_matrix, vmax=0.8, square=True)\n",
    "plt.show()\n"
   ]
  },
  {
   "cell_type": "code",
   "execution_count": 4,
   "metadata": {},
   "outputs": [
    {
     "data": {
      "text/plain": [
       "0"
      ]
     },
     "execution_count": 4,
     "metadata": {},
     "output_type": "execute_result"
    }
   ],
   "source": [
    "# used to determine which columns were causing problems\n",
    "import math\n",
    "count = 0\n",
    "for x in train_df['yearbuilt'].values:\n",
    "    # NaN\n",
    "    if pd.isna(x):\n",
    "        count += 1\n",
    "        print(x)\n",
    "    # infinity\n",
    "    if math.isinf(x):\n",
    "        count += 1\n",
    "    if x < 1800:\n",
    "        count += 1\n",
    "count"
   ]
  },
  {
   "cell_type": "code",
   "execution_count": 4,
   "metadata": {
    "collapsed": true
   },
   "outputs": [
    {
     "data": {
      "text/html": [
       "<div>\n",
       "<style scoped>\n",
       "    .dataframe tbody tr th:only-of-type {\n",
       "        vertical-align: middle;\n",
       "    }\n",
       "\n",
       "    .dataframe tbody tr th {\n",
       "        vertical-align: top;\n",
       "    }\n",
       "\n",
       "    .dataframe thead th {\n",
       "        text-align: right;\n",
       "    }\n",
       "</style>\n",
       "<table border=\"1\" class=\"dataframe\">\n",
       "  <thead>\n",
       "    <tr style=\"text-align: right;\">\n",
       "      <th></th>\n",
       "      <th>taxratearea</th>\n",
       "      <th>yearbuilt</th>\n",
       "      <th>effectiveyearbuilt</th>\n",
       "      <th>sqftmain</th>\n",
       "      <th>roll_landvalue</th>\n",
       "      <th>roll_landbaseyear</th>\n",
       "      <th>cluster</th>\n",
       "      <th>situszip5</th>\n",
       "      <th>center_lat</th>\n",
       "      <th>center_lon</th>\n",
       "      <th>landvalue_per_sqft</th>\n",
       "    </tr>\n",
       "  </thead>\n",
       "  <tbody>\n",
       "    <tr>\n",
       "      <th>20639</th>\n",
       "      <td>2530</td>\n",
       "      <td>1948</td>\n",
       "      <td>1948</td>\n",
       "      <td>1000</td>\n",
       "      <td>69390.0</td>\n",
       "      <td>1997</td>\n",
       "      <td>24632</td>\n",
       "      <td>91505</td>\n",
       "      <td>34.176962</td>\n",
       "      <td>-118.342504</td>\n",
       "      <td>69.390000</td>\n",
       "    </tr>\n",
       "    <tr>\n",
       "      <th>8618</th>\n",
       "      <td>5500</td>\n",
       "      <td>1964</td>\n",
       "      <td>1964</td>\n",
       "      <td>7348</td>\n",
       "      <td>905560.0</td>\n",
       "      <td>2004</td>\n",
       "      <td>26614</td>\n",
       "      <td>90814</td>\n",
       "      <td>33.771434</td>\n",
       "      <td>-118.165798</td>\n",
       "      <td>123.238977</td>\n",
       "    </tr>\n",
       "    <tr>\n",
       "      <th>9740</th>\n",
       "      <td>4173</td>\n",
       "      <td>1986</td>\n",
       "      <td>1986</td>\n",
       "      <td>2835</td>\n",
       "      <td>111924.0</td>\n",
       "      <td>1985</td>\n",
       "      <td>27609</td>\n",
       "      <td>91740</td>\n",
       "      <td>34.127814</td>\n",
       "      <td>-117.863469</td>\n",
       "      <td>39.479365</td>\n",
       "    </tr>\n",
       "    <tr>\n",
       "      <th>24174</th>\n",
       "      <td>13</td>\n",
       "      <td>1966</td>\n",
       "      <td>1966</td>\n",
       "      <td>13500</td>\n",
       "      <td>189128.0</td>\n",
       "      <td>1997</td>\n",
       "      <td>24653</td>\n",
       "      <td>91040</td>\n",
       "      <td>34.259124</td>\n",
       "      <td>-118.310648</td>\n",
       "      <td>14.009481</td>\n",
       "    </tr>\n",
       "    <tr>\n",
       "      <th>8905</th>\n",
       "      <td>14706</td>\n",
       "      <td>1989</td>\n",
       "      <td>1989</td>\n",
       "      <td>8529</td>\n",
       "      <td>1479406.0</td>\n",
       "      <td>1988</td>\n",
       "      <td>24627</td>\n",
       "      <td>91384</td>\n",
       "      <td>34.496947</td>\n",
       "      <td>-118.623457</td>\n",
       "      <td>173.455974</td>\n",
       "    </tr>\n",
       "  </tbody>\n",
       "</table>\n",
       "</div>"
      ],
      "text/plain": [
       "       taxratearea  yearbuilt  effectiveyearbuilt  sqftmain  roll_landvalue  \\\n",
       "20639         2530       1948                1948      1000         69390.0   \n",
       "8618          5500       1964                1964      7348        905560.0   \n",
       "9740          4173       1986                1986      2835        111924.0   \n",
       "24174           13       1966                1966     13500        189128.0   \n",
       "8905         14706       1989                1989      8529       1479406.0   \n",
       "\n",
       "       roll_landbaseyear  cluster  situszip5  center_lat  center_lon  \\\n",
       "20639               1997    24632      91505   34.176962 -118.342504   \n",
       "8618                2004    26614      90814   33.771434 -118.165798   \n",
       "9740                1985    27609      91740   34.127814 -117.863469   \n",
       "24174               1997    24653      91040   34.259124 -118.310648   \n",
       "8905                1988    24627      91384   34.496947 -118.623457   \n",
       "\n",
       "       landvalue_per_sqft  \n",
       "20639           69.390000  \n",
       "8618           123.238977  \n",
       "9740            39.479365  \n",
       "24174           14.009481  \n",
       "8905           173.455974  "
      ]
     },
     "execution_count": 4,
     "metadata": {},
     "output_type": "execute_result"
    }
   ],
   "source": [
    "# Selecting only the numeric columns\n",
    "train = train_df.select_dtypes(['int64', 'float64'])\n",
    "test = test_df.select_dtypes(['int64', 'float64'])\n",
    "# Dropping the insignificant features\n",
    "#train = train.drop(['GarageYrBlt', 'TotRmsAbvGrd', '1stFlrSF', 'GarageCars', 'Id'], axis=1)\n",
    "#test = test.drop(['GarageYrBlt', 'TotRmsAbvGrd', '1stFlrSF', 'GarageCars', 'Id'], axis=1)\n",
    "train.head()"
   ]
  },
  {
   "cell_type": "code",
   "execution_count": 55,
   "metadata": {},
   "outputs": [
    {
     "data": {
      "application/vnd.plotly.v1+json": {
       "config": {
        "plotlyServerURL": "https://plot.ly"
       },
       "data": [
        {
         "type": "bar",
         "x": [
          "roll_landbaseyear",
          "effectiveyearbuilt",
          "yearbuilt",
          "situszip5",
          "cluster",
          "taxratearea",
          "sqftmain",
          "roll_landvalue",
          "center_lat",
          "center_lon",
          "landvalue_per_sqft"
         ],
         "y": [
          47,
          125,
          136,
          287,
          344,
          1680,
          10383,
          20431,
          22875,
          22880,
          23704
         ]
        }
       ],
       "layout": {
        "template": {
         "data": {
          "bar": [
           {
            "error_x": {
             "color": "#2a3f5f"
            },
            "error_y": {
             "color": "#2a3f5f"
            },
            "marker": {
             "line": {
              "color": "#E5ECF6",
              "width": 0.5
             }
            },
            "type": "bar"
           }
          ],
          "barpolar": [
           {
            "marker": {
             "line": {
              "color": "#E5ECF6",
              "width": 0.5
             }
            },
            "type": "barpolar"
           }
          ],
          "carpet": [
           {
            "aaxis": {
             "endlinecolor": "#2a3f5f",
             "gridcolor": "white",
             "linecolor": "white",
             "minorgridcolor": "white",
             "startlinecolor": "#2a3f5f"
            },
            "baxis": {
             "endlinecolor": "#2a3f5f",
             "gridcolor": "white",
             "linecolor": "white",
             "minorgridcolor": "white",
             "startlinecolor": "#2a3f5f"
            },
            "type": "carpet"
           }
          ],
          "choropleth": [
           {
            "colorbar": {
             "outlinewidth": 0,
             "ticks": ""
            },
            "type": "choropleth"
           }
          ],
          "contour": [
           {
            "colorbar": {
             "outlinewidth": 0,
             "ticks": ""
            },
            "colorscale": [
             [
              0,
              "#0d0887"
             ],
             [
              0.1111111111111111,
              "#46039f"
             ],
             [
              0.2222222222222222,
              "#7201a8"
             ],
             [
              0.3333333333333333,
              "#9c179e"
             ],
             [
              0.4444444444444444,
              "#bd3786"
             ],
             [
              0.5555555555555556,
              "#d8576b"
             ],
             [
              0.6666666666666666,
              "#ed7953"
             ],
             [
              0.7777777777777778,
              "#fb9f3a"
             ],
             [
              0.8888888888888888,
              "#fdca26"
             ],
             [
              1,
              "#f0f921"
             ]
            ],
            "type": "contour"
           }
          ],
          "contourcarpet": [
           {
            "colorbar": {
             "outlinewidth": 0,
             "ticks": ""
            },
            "type": "contourcarpet"
           }
          ],
          "heatmap": [
           {
            "colorbar": {
             "outlinewidth": 0,
             "ticks": ""
            },
            "colorscale": [
             [
              0,
              "#0d0887"
             ],
             [
              0.1111111111111111,
              "#46039f"
             ],
             [
              0.2222222222222222,
              "#7201a8"
             ],
             [
              0.3333333333333333,
              "#9c179e"
             ],
             [
              0.4444444444444444,
              "#bd3786"
             ],
             [
              0.5555555555555556,
              "#d8576b"
             ],
             [
              0.6666666666666666,
              "#ed7953"
             ],
             [
              0.7777777777777778,
              "#fb9f3a"
             ],
             [
              0.8888888888888888,
              "#fdca26"
             ],
             [
              1,
              "#f0f921"
             ]
            ],
            "type": "heatmap"
           }
          ],
          "heatmapgl": [
           {
            "colorbar": {
             "outlinewidth": 0,
             "ticks": ""
            },
            "colorscale": [
             [
              0,
              "#0d0887"
             ],
             [
              0.1111111111111111,
              "#46039f"
             ],
             [
              0.2222222222222222,
              "#7201a8"
             ],
             [
              0.3333333333333333,
              "#9c179e"
             ],
             [
              0.4444444444444444,
              "#bd3786"
             ],
             [
              0.5555555555555556,
              "#d8576b"
             ],
             [
              0.6666666666666666,
              "#ed7953"
             ],
             [
              0.7777777777777778,
              "#fb9f3a"
             ],
             [
              0.8888888888888888,
              "#fdca26"
             ],
             [
              1,
              "#f0f921"
             ]
            ],
            "type": "heatmapgl"
           }
          ],
          "histogram": [
           {
            "marker": {
             "colorbar": {
              "outlinewidth": 0,
              "ticks": ""
             }
            },
            "type": "histogram"
           }
          ],
          "histogram2d": [
           {
            "colorbar": {
             "outlinewidth": 0,
             "ticks": ""
            },
            "colorscale": [
             [
              0,
              "#0d0887"
             ],
             [
              0.1111111111111111,
              "#46039f"
             ],
             [
              0.2222222222222222,
              "#7201a8"
             ],
             [
              0.3333333333333333,
              "#9c179e"
             ],
             [
              0.4444444444444444,
              "#bd3786"
             ],
             [
              0.5555555555555556,
              "#d8576b"
             ],
             [
              0.6666666666666666,
              "#ed7953"
             ],
             [
              0.7777777777777778,
              "#fb9f3a"
             ],
             [
              0.8888888888888888,
              "#fdca26"
             ],
             [
              1,
              "#f0f921"
             ]
            ],
            "type": "histogram2d"
           }
          ],
          "histogram2dcontour": [
           {
            "colorbar": {
             "outlinewidth": 0,
             "ticks": ""
            },
            "colorscale": [
             [
              0,
              "#0d0887"
             ],
             [
              0.1111111111111111,
              "#46039f"
             ],
             [
              0.2222222222222222,
              "#7201a8"
             ],
             [
              0.3333333333333333,
              "#9c179e"
             ],
             [
              0.4444444444444444,
              "#bd3786"
             ],
             [
              0.5555555555555556,
              "#d8576b"
             ],
             [
              0.6666666666666666,
              "#ed7953"
             ],
             [
              0.7777777777777778,
              "#fb9f3a"
             ],
             [
              0.8888888888888888,
              "#fdca26"
             ],
             [
              1,
              "#f0f921"
             ]
            ],
            "type": "histogram2dcontour"
           }
          ],
          "mesh3d": [
           {
            "colorbar": {
             "outlinewidth": 0,
             "ticks": ""
            },
            "type": "mesh3d"
           }
          ],
          "parcoords": [
           {
            "line": {
             "colorbar": {
              "outlinewidth": 0,
              "ticks": ""
             }
            },
            "type": "parcoords"
           }
          ],
          "pie": [
           {
            "automargin": true,
            "type": "pie"
           }
          ],
          "scatter": [
           {
            "marker": {
             "colorbar": {
              "outlinewidth": 0,
              "ticks": ""
             }
            },
            "type": "scatter"
           }
          ],
          "scatter3d": [
           {
            "line": {
             "colorbar": {
              "outlinewidth": 0,
              "ticks": ""
             }
            },
            "marker": {
             "colorbar": {
              "outlinewidth": 0,
              "ticks": ""
             }
            },
            "type": "scatter3d"
           }
          ],
          "scattercarpet": [
           {
            "marker": {
             "colorbar": {
              "outlinewidth": 0,
              "ticks": ""
             }
            },
            "type": "scattercarpet"
           }
          ],
          "scattergeo": [
           {
            "marker": {
             "colorbar": {
              "outlinewidth": 0,
              "ticks": ""
             }
            },
            "type": "scattergeo"
           }
          ],
          "scattergl": [
           {
            "marker": {
             "colorbar": {
              "outlinewidth": 0,
              "ticks": ""
             }
            },
            "type": "scattergl"
           }
          ],
          "scattermapbox": [
           {
            "marker": {
             "colorbar": {
              "outlinewidth": 0,
              "ticks": ""
             }
            },
            "type": "scattermapbox"
           }
          ],
          "scatterpolar": [
           {
            "marker": {
             "colorbar": {
              "outlinewidth": 0,
              "ticks": ""
             }
            },
            "type": "scatterpolar"
           }
          ],
          "scatterpolargl": [
           {
            "marker": {
             "colorbar": {
              "outlinewidth": 0,
              "ticks": ""
             }
            },
            "type": "scatterpolargl"
           }
          ],
          "scatterternary": [
           {
            "marker": {
             "colorbar": {
              "outlinewidth": 0,
              "ticks": ""
             }
            },
            "type": "scatterternary"
           }
          ],
          "surface": [
           {
            "colorbar": {
             "outlinewidth": 0,
             "ticks": ""
            },
            "colorscale": [
             [
              0,
              "#0d0887"
             ],
             [
              0.1111111111111111,
              "#46039f"
             ],
             [
              0.2222222222222222,
              "#7201a8"
             ],
             [
              0.3333333333333333,
              "#9c179e"
             ],
             [
              0.4444444444444444,
              "#bd3786"
             ],
             [
              0.5555555555555556,
              "#d8576b"
             ],
             [
              0.6666666666666666,
              "#ed7953"
             ],
             [
              0.7777777777777778,
              "#fb9f3a"
             ],
             [
              0.8888888888888888,
              "#fdca26"
             ],
             [
              1,
              "#f0f921"
             ]
            ],
            "type": "surface"
           }
          ],
          "table": [
           {
            "cells": {
             "fill": {
              "color": "#EBF0F8"
             },
             "line": {
              "color": "white"
             }
            },
            "header": {
             "fill": {
              "color": "#C8D4E3"
             },
             "line": {
              "color": "white"
             }
            },
            "type": "table"
           }
          ]
         },
         "layout": {
          "annotationdefaults": {
           "arrowcolor": "#2a3f5f",
           "arrowhead": 0,
           "arrowwidth": 1
          },
          "autotypenumbers": "strict",
          "coloraxis": {
           "colorbar": {
            "outlinewidth": 0,
            "ticks": ""
           }
          },
          "colorscale": {
           "diverging": [
            [
             0,
             "#8e0152"
            ],
            [
             0.1,
             "#c51b7d"
            ],
            [
             0.2,
             "#de77ae"
            ],
            [
             0.3,
             "#f1b6da"
            ],
            [
             0.4,
             "#fde0ef"
            ],
            [
             0.5,
             "#f7f7f7"
            ],
            [
             0.6,
             "#e6f5d0"
            ],
            [
             0.7,
             "#b8e186"
            ],
            [
             0.8,
             "#7fbc41"
            ],
            [
             0.9,
             "#4d9221"
            ],
            [
             1,
             "#276419"
            ]
           ],
           "sequential": [
            [
             0,
             "#0d0887"
            ],
            [
             0.1111111111111111,
             "#46039f"
            ],
            [
             0.2222222222222222,
             "#7201a8"
            ],
            [
             0.3333333333333333,
             "#9c179e"
            ],
            [
             0.4444444444444444,
             "#bd3786"
            ],
            [
             0.5555555555555556,
             "#d8576b"
            ],
            [
             0.6666666666666666,
             "#ed7953"
            ],
            [
             0.7777777777777778,
             "#fb9f3a"
            ],
            [
             0.8888888888888888,
             "#fdca26"
            ],
            [
             1,
             "#f0f921"
            ]
           ],
           "sequentialminus": [
            [
             0,
             "#0d0887"
            ],
            [
             0.1111111111111111,
             "#46039f"
            ],
            [
             0.2222222222222222,
             "#7201a8"
            ],
            [
             0.3333333333333333,
             "#9c179e"
            ],
            [
             0.4444444444444444,
             "#bd3786"
            ],
            [
             0.5555555555555556,
             "#d8576b"
            ],
            [
             0.6666666666666666,
             "#ed7953"
            ],
            [
             0.7777777777777778,
             "#fb9f3a"
            ],
            [
             0.8888888888888888,
             "#fdca26"
            ],
            [
             1,
             "#f0f921"
            ]
           ]
          },
          "colorway": [
           "#636efa",
           "#EF553B",
           "#00cc96",
           "#ab63fa",
           "#FFA15A",
           "#19d3f3",
           "#FF6692",
           "#B6E880",
           "#FF97FF",
           "#FECB52"
          ],
          "font": {
           "color": "#2a3f5f"
          },
          "geo": {
           "bgcolor": "white",
           "lakecolor": "white",
           "landcolor": "#E5ECF6",
           "showlakes": true,
           "showland": true,
           "subunitcolor": "white"
          },
          "hoverlabel": {
           "align": "left"
          },
          "hovermode": "closest",
          "mapbox": {
           "style": "light"
          },
          "paper_bgcolor": "white",
          "plot_bgcolor": "#E5ECF6",
          "polar": {
           "angularaxis": {
            "gridcolor": "white",
            "linecolor": "white",
            "ticks": ""
           },
           "bgcolor": "#E5ECF6",
           "radialaxis": {
            "gridcolor": "white",
            "linecolor": "white",
            "ticks": ""
           }
          },
          "scene": {
           "xaxis": {
            "backgroundcolor": "#E5ECF6",
            "gridcolor": "white",
            "gridwidth": 2,
            "linecolor": "white",
            "showbackground": true,
            "ticks": "",
            "zerolinecolor": "white"
           },
           "yaxis": {
            "backgroundcolor": "#E5ECF6",
            "gridcolor": "white",
            "gridwidth": 2,
            "linecolor": "white",
            "showbackground": true,
            "ticks": "",
            "zerolinecolor": "white"
           },
           "zaxis": {
            "backgroundcolor": "#E5ECF6",
            "gridcolor": "white",
            "gridwidth": 2,
            "linecolor": "white",
            "showbackground": true,
            "ticks": "",
            "zerolinecolor": "white"
           }
          },
          "shapedefaults": {
           "line": {
            "color": "#2a3f5f"
           }
          },
          "ternary": {
           "aaxis": {
            "gridcolor": "white",
            "linecolor": "white",
            "ticks": ""
           },
           "baxis": {
            "gridcolor": "white",
            "linecolor": "white",
            "ticks": ""
           },
           "bgcolor": "#E5ECF6",
           "caxis": {
            "gridcolor": "white",
            "linecolor": "white",
            "ticks": ""
           }
          },
          "title": {
           "x": 0.05
          },
          "xaxis": {
           "automargin": true,
           "gridcolor": "white",
           "linecolor": "white",
           "ticks": "",
           "title": {
            "standoff": 15
           },
           "zerolinecolor": "white",
           "zerolinewidth": 2
          },
          "yaxis": {
           "automargin": true,
           "gridcolor": "white",
           "linecolor": "white",
           "ticks": "",
           "title": {
            "standoff": 15
           },
           "zerolinecolor": "white",
           "zerolinewidth": 2
          }
         }
        }
       }
      }
     },
     "metadata": {},
     "output_type": "display_data"
    }
   ],
   "source": [
    "# Visualizing the unique value count in each feature\n",
    "cat_count = train.apply(lambda x: x.value_counts().shape[0]).sort_values()\n",
    "go.Figure(data=go.Bar(x=cat_count.index, y=cat_count))"
   ]
  },
  {
   "cell_type": "code",
   "execution_count": 5,
   "metadata": {},
   "outputs": [],
   "source": [
    "# Extracting the SalePrice from training data\n",
    "#Y_train = np.log(train['roll_landvalue'].values)\n",
    "Y_train = train_df['roll_landvalue'].values\n",
    "train_df = train_df.drop(['roll_landvalue'], axis=1)\n"
   ]
  },
  {
   "cell_type": "code",
   "execution_count": null,
   "metadata": {},
   "outputs": [],
   "source": [
    "#Imputing the missing numerical values with the median value as the features are not uniformly distributed\n",
    "#imputer = SimpleImputer(strategy='median')\n",
    "#train_num = imputer.fit_transform(train.select_dtypes(['int64', 'float64']))\n",
    "#test_num = imputer.transform(test.select_dtypes(['int64', 'float64']))"
   ]
  },
  {
   "cell_type": "code",
   "execution_count": 6,
   "metadata": {},
   "outputs": [],
   "source": [
    "lettersToNumbers = {\"A\": 10, \"B\": 11, \"C\": 12, \"D\": 13, \"E\": 14, \"F\": 15, \"G\": 16,\n",
    "                    \"H\": 17, \"I\": 18, \"J\": 19, \"K\": 20, \"L\": 21, \"M\": 22, \"N\": 23,\n",
    "                    \"O\": 24, \"P\": 25, \"Q\": 26, \"R\": 27, \"S\": 28, \"T\": 29, \"U\": 30,\n",
    "                    \"V\": 31, \"W\": 32, \"X\": 33, \"Y\": 34, \"Z\": 35, \" \": -1}\n",
    "def encode(col):\n",
    "    for x in lettersToNumbers:\n",
    "        train_df[col] = train_df[col].replace(x,lettersToNumbers[x])\n",
    "    for x in lettersToNumbers:\n",
    "        test_df[col] = test_df[col].replace(x,lettersToNumbers[x])\n"
   ]
  },
  {
   "cell_type": "code",
   "execution_count": 7,
   "metadata": {},
   "outputs": [
    {
     "name": "stderr",
     "output_type": "stream",
     "text": [
      "/Users/Anna/anaconda/envs/cs121/lib/python2.7/site-packages/ipykernel_launcher.py:6: SettingWithCopyWarning:\n",
      "\n",
      "\n",
      "A value is trying to be set on a copy of a slice from a DataFrame.\n",
      "Try using .loc[row_indexer,col_indexer] = value instead\n",
      "\n",
      "See the caveats in the documentation: http://pandas.pydata.org/pandas-docs/stable/indexing.html#indexing-view-versus-copy\n",
      "\n",
      "/Users/Anna/anaconda/envs/cs121/lib/python2.7/site-packages/ipykernel_launcher.py:7: SettingWithCopyWarning:\n",
      "\n",
      "\n",
      "A value is trying to be set on a copy of a slice from a DataFrame.\n",
      "Try using .loc[row_indexer,col_indexer] = value instead\n",
      "\n",
      "See the caveats in the documentation: http://pandas.pydata.org/pandas-docs/stable/indexing.html#indexing-view-versus-copy\n",
      "\n",
      "/Users/Anna/anaconda/envs/cs121/lib/python2.7/site-packages/ipykernel_launcher.py:8: SettingWithCopyWarning:\n",
      "\n",
      "\n",
      "A value is trying to be set on a copy of a slice from a DataFrame.\n",
      "Try using .loc[row_indexer,col_indexer] = value instead\n",
      "\n",
      "See the caveats in the documentation: http://pandas.pydata.org/pandas-docs/stable/indexing.html#indexing-view-versus-copy\n",
      "\n",
      "/Users/Anna/anaconda/envs/cs121/lib/python2.7/site-packages/ipykernel_launcher.py:9: SettingWithCopyWarning:\n",
      "\n",
      "\n",
      "A value is trying to be set on a copy of a slice from a DataFrame.\n",
      "Try using .loc[row_indexer,col_indexer] = value instead\n",
      "\n",
      "See the caveats in the documentation: http://pandas.pydata.org/pandas-docs/stable/indexing.html#indexing-view-versus-copy\n",
      "\n",
      "/Users/Anna/anaconda/envs/cs121/lib/python2.7/site-packages/pandas/core/frame.py:3391: SettingWithCopyWarning:\n",
      "\n",
      "\n",
      "A value is trying to be set on a copy of a slice from a DataFrame.\n",
      "Try using .loc[row_indexer,col_indexer] = value instead\n",
      "\n",
      "See the caveats in the documentation: http://pandas.pydata.org/pandas-docs/stable/indexing.html#indexing-view-versus-copy\n",
      "\n"
     ]
    },
    {
     "data": {
      "text/html": [
       "<div>\n",
       "<style scoped>\n",
       "    .dataframe tbody tr th:only-of-type {\n",
       "        vertical-align: middle;\n",
       "    }\n",
       "\n",
       "    .dataframe tbody tr th {\n",
       "        vertical-align: top;\n",
       "    }\n",
       "\n",
       "    .dataframe thead th {\n",
       "        text-align: right;\n",
       "    }\n",
       "</style>\n",
       "<table border=\"1\" class=\"dataframe\">\n",
       "  <thead>\n",
       "    <tr style=\"text-align: right;\">\n",
       "      <th></th>\n",
       "      <th>ain</th>\n",
       "      <th>taxratearea</th>\n",
       "      <th>usecode</th>\n",
       "      <th>yearbuilt</th>\n",
       "      <th>effectiveyearbuilt</th>\n",
       "      <th>sqftmain</th>\n",
       "      <th>roll_landbaseyear</th>\n",
       "      <th>cluster</th>\n",
       "      <th>situszip5</th>\n",
       "      <th>center_lat</th>\n",
       "      <th>center_lon</th>\n",
       "      <th>landvalue_per_sqft</th>\n",
       "      <th>usecode1</th>\n",
       "      <th>usecode2</th>\n",
       "      <th>usecode3</th>\n",
       "      <th>usecode4</th>\n",
       "    </tr>\n",
       "  </thead>\n",
       "  <tbody>\n",
       "    <tr>\n",
       "      <th>182</th>\n",
       "      <td>2671023017</td>\n",
       "      <td>16</td>\n",
       "      <td>1600</td>\n",
       "      <td>1960</td>\n",
       "      <td>1960</td>\n",
       "      <td>2632</td>\n",
       "      <td>1993</td>\n",
       "      <td>24630</td>\n",
       "      <td>91343</td>\n",
       "      <td>34.235936</td>\n",
       "      <td>-118.484568</td>\n",
       "      <td>67.004559</td>\n",
       "      <td>1</td>\n",
       "      <td>6</td>\n",
       "      <td>0</td>\n",
       "      <td>0</td>\n",
       "    </tr>\n",
       "    <tr>\n",
       "      <th>24589</th>\n",
       "      <td>5228004017</td>\n",
       "      <td>964</td>\n",
       "      <td>1700</td>\n",
       "      <td>1947</td>\n",
       "      <td>1947</td>\n",
       "      <td>3177</td>\n",
       "      <td>2008</td>\n",
       "      <td>27636</td>\n",
       "      <td>90063</td>\n",
       "      <td>34.055426</td>\n",
       "      <td>-118.179037</td>\n",
       "      <td>142.494492</td>\n",
       "      <td>1</td>\n",
       "      <td>7</td>\n",
       "      <td>0</td>\n",
       "      <td>0</td>\n",
       "    </tr>\n",
       "    <tr>\n",
       "      <th>20613</th>\n",
       "      <td>5738010047</td>\n",
       "      <td>7500</td>\n",
       "      <td>1210</td>\n",
       "      <td>1925</td>\n",
       "      <td>1948</td>\n",
       "      <td>2416</td>\n",
       "      <td>1998</td>\n",
       "      <td>27615</td>\n",
       "      <td>91106</td>\n",
       "      <td>34.149840</td>\n",
       "      <td>-118.127494</td>\n",
       "      <td>72.542632</td>\n",
       "      <td>1</td>\n",
       "      <td>2</td>\n",
       "      <td>1</td>\n",
       "      <td>0</td>\n",
       "    </tr>\n",
       "    <tr>\n",
       "      <th>24032</th>\n",
       "      <td>4005017030</td>\n",
       "      <td>6612</td>\n",
       "      <td>1100</td>\n",
       "      <td>1924</td>\n",
       "      <td>1924</td>\n",
       "      <td>3600</td>\n",
       "      <td>1991</td>\n",
       "      <td>25675</td>\n",
       "      <td>90043</td>\n",
       "      <td>33.988800</td>\n",
       "      <td>-118.323007</td>\n",
       "      <td>38.131111</td>\n",
       "      <td>1</td>\n",
       "      <td>1</td>\n",
       "      <td>0</td>\n",
       "      <td>0</td>\n",
       "    </tr>\n",
       "    <tr>\n",
       "      <th>4557</th>\n",
       "      <td>8029004036</td>\n",
       "      <td>9081</td>\n",
       "      <td>1720</td>\n",
       "      <td>1943</td>\n",
       "      <td>1960</td>\n",
       "      <td>1456</td>\n",
       "      <td>1984</td>\n",
       "      <td>26628</td>\n",
       "      <td>90605</td>\n",
       "      <td>33.936747</td>\n",
       "      <td>-118.044584</td>\n",
       "      <td>62.325549</td>\n",
       "      <td>1</td>\n",
       "      <td>7</td>\n",
       "      <td>2</td>\n",
       "      <td>0</td>\n",
       "    </tr>\n",
       "  </tbody>\n",
       "</table>\n",
       "</div>"
      ],
      "text/plain": [
       "              ain  taxratearea usecode  yearbuilt  effectiveyearbuilt  \\\n",
       "182    2671023017           16    1600       1960                1960   \n",
       "24589  5228004017          964    1700       1947                1947   \n",
       "20613  5738010047         7500    1210       1925                1948   \n",
       "24032  4005017030         6612    1100       1924                1924   \n",
       "4557   8029004036         9081    1720       1943                1960   \n",
       "\n",
       "       sqftmain  roll_landbaseyear  cluster  situszip5  center_lat  \\\n",
       "182        2632               1993    24630      91343   34.235936   \n",
       "24589      3177               2008    27636      90063   34.055426   \n",
       "20613      2416               1998    27615      91106   34.149840   \n",
       "24032      3600               1991    25675      90043   33.988800   \n",
       "4557       1456               1984    26628      90605   33.936747   \n",
       "\n",
       "       center_lon  landvalue_per_sqft  usecode1  usecode2  usecode3  usecode4  \n",
       "182   -118.484568           67.004559         1         6         0         0  \n",
       "24589 -118.179037          142.494492         1         7         0         0  \n",
       "20613 -118.127494           72.542632         1         2         1         0  \n",
       "24032 -118.323007           38.131111         1         1         0         0  \n",
       "4557  -118.044584           62.325549         1         7         2         0  "
      ]
     },
     "execution_count": 7,
     "metadata": {},
     "output_type": "execute_result"
    }
   ],
   "source": [
    "#Imputing the missing categorical value with the most frequent value\n",
    "#cat_columns = train.select_dtypes(['object']).columns\n",
    "#train_cat = train_df.select_dtypes(['int64', 'float64'])\n",
    "#train_cat = train_df['usecode']\n",
    "#test_cat = test_df['usecode']\n",
    "test_df['usecode1'] = test_df['usecode'].astype(str).str[0]\n",
    "test_df['usecode2'] = test_df['usecode'].astype(str).str[1]\n",
    "test_df['usecode3'] = test_df['usecode'].astype(str).str[2]\n",
    "test_df['usecode4'] = test_df['usecode'].astype(str).str[3]\n",
    "train_df['usecode1'] = train_df['usecode'].astype(str).str[0]\n",
    "train_df['usecode2'] = train_df['usecode'].astype(str).str[1]\n",
    "train_df['usecode3'] = train_df['usecode'].astype(str).str[2]\n",
    "train_df['usecode4'] = train_df['usecode'].astype(str).str[3]\n",
    "encode('usecode1')\n",
    "encode('usecode2')\n",
    "encode('usecode3')\n",
    "encode('usecode4')\n",
    "\n",
    "usecode_cols = ['usecode1', 'usecode2', 'usecode3', 'usecode4']\n",
    "\n",
    "test_df[usecode_cols] = test_df[usecode_cols].apply(pd.to_numeric)\n",
    "train_df[usecode_cols] = train_df[usecode_cols].apply(pd.to_numeric)\n",
    "\n",
    "#test_df['usecode4'] = test_df['usecode4'].replace('G', 15)\n",
    "\n",
    "#cat_imputer = CategoricalImputer()\n",
    "#train_cat = cat_imputer.fit_transform(train_df.loc[:, cat_cols].values)\n",
    "#test_cat = cat_imputer.transform(test_df.loc[:, cat_cols].values)\n",
    "train_df.head()\n"
   ]
  },
  {
   "cell_type": "code",
   "execution_count": 16,
   "metadata": {},
   "outputs": [],
   "source": [
    "#One-hot encoding the categorical columns\n",
    "#one_hot_encoder = OneHotEncoder()\n",
    "#combined_cat_data = np.vstack([train_cat, test_cat])\n",
    "#combined_cat = one_hot_encoder.fit_transform(combined_cat_data).todense()\n",
    "\n",
    "#train_cat = combined_cat[:train.shape[0]]\n",
    "#test_cat = combined_cat[train.shape[0]:]\n"
   ]
  },
  {
   "cell_type": "code",
   "execution_count": null,
   "metadata": {},
   "outputs": [],
   "source": [
    "#Scaling the numeric columns\n",
    "# Creating a scaler for input features\n",
    "#X_scaler = MinMaxScaler()\n",
    "\n",
    "# Transforming the input features of both train and test\n",
    "#train_num = X_scaler.fit_transform(train_num)\n",
    "#test_num = X_scaler.transform(test_num)"
   ]
  },
  {
   "cell_type": "code",
   "execution_count": 8,
   "metadata": {},
   "outputs": [
    {
     "data": {
      "text/html": [
       "<div>\n",
       "<style scoped>\n",
       "    .dataframe tbody tr th:only-of-type {\n",
       "        vertical-align: middle;\n",
       "    }\n",
       "\n",
       "    .dataframe tbody tr th {\n",
       "        vertical-align: top;\n",
       "    }\n",
       "\n",
       "    .dataframe thead th {\n",
       "        text-align: right;\n",
       "    }\n",
       "</style>\n",
       "<table border=\"1\" class=\"dataframe\">\n",
       "  <thead>\n",
       "    <tr style=\"text-align: right;\">\n",
       "      <th></th>\n",
       "      <th>ain</th>\n",
       "      <th>taxratearea</th>\n",
       "      <th>yearbuilt</th>\n",
       "      <th>effectiveyearbuilt</th>\n",
       "      <th>sqftmain</th>\n",
       "      <th>roll_landbaseyear</th>\n",
       "      <th>cluster</th>\n",
       "      <th>situszip5</th>\n",
       "      <th>center_lat</th>\n",
       "      <th>center_lon</th>\n",
       "      <th>landvalue_per_sqft</th>\n",
       "      <th>usecode1</th>\n",
       "      <th>usecode2</th>\n",
       "      <th>usecode3</th>\n",
       "      <th>usecode4</th>\n",
       "    </tr>\n",
       "  </thead>\n",
       "  <tbody>\n",
       "    <tr>\n",
       "      <th>182</th>\n",
       "      <td>2671023017</td>\n",
       "      <td>16</td>\n",
       "      <td>1960</td>\n",
       "      <td>1960</td>\n",
       "      <td>2632</td>\n",
       "      <td>1993</td>\n",
       "      <td>24630</td>\n",
       "      <td>91343</td>\n",
       "      <td>34.235936</td>\n",
       "      <td>-118.484568</td>\n",
       "      <td>67.004559</td>\n",
       "      <td>1</td>\n",
       "      <td>6</td>\n",
       "      <td>0</td>\n",
       "      <td>0</td>\n",
       "    </tr>\n",
       "    <tr>\n",
       "      <th>24589</th>\n",
       "      <td>5228004017</td>\n",
       "      <td>964</td>\n",
       "      <td>1947</td>\n",
       "      <td>1947</td>\n",
       "      <td>3177</td>\n",
       "      <td>2008</td>\n",
       "      <td>27636</td>\n",
       "      <td>90063</td>\n",
       "      <td>34.055426</td>\n",
       "      <td>-118.179037</td>\n",
       "      <td>142.494492</td>\n",
       "      <td>1</td>\n",
       "      <td>7</td>\n",
       "      <td>0</td>\n",
       "      <td>0</td>\n",
       "    </tr>\n",
       "    <tr>\n",
       "      <th>20613</th>\n",
       "      <td>5738010047</td>\n",
       "      <td>7500</td>\n",
       "      <td>1925</td>\n",
       "      <td>1948</td>\n",
       "      <td>2416</td>\n",
       "      <td>1998</td>\n",
       "      <td>27615</td>\n",
       "      <td>91106</td>\n",
       "      <td>34.149840</td>\n",
       "      <td>-118.127494</td>\n",
       "      <td>72.542632</td>\n",
       "      <td>1</td>\n",
       "      <td>2</td>\n",
       "      <td>1</td>\n",
       "      <td>0</td>\n",
       "    </tr>\n",
       "    <tr>\n",
       "      <th>24032</th>\n",
       "      <td>4005017030</td>\n",
       "      <td>6612</td>\n",
       "      <td>1924</td>\n",
       "      <td>1924</td>\n",
       "      <td>3600</td>\n",
       "      <td>1991</td>\n",
       "      <td>25675</td>\n",
       "      <td>90043</td>\n",
       "      <td>33.988800</td>\n",
       "      <td>-118.323007</td>\n",
       "      <td>38.131111</td>\n",
       "      <td>1</td>\n",
       "      <td>1</td>\n",
       "      <td>0</td>\n",
       "      <td>0</td>\n",
       "    </tr>\n",
       "    <tr>\n",
       "      <th>4557</th>\n",
       "      <td>8029004036</td>\n",
       "      <td>9081</td>\n",
       "      <td>1943</td>\n",
       "      <td>1960</td>\n",
       "      <td>1456</td>\n",
       "      <td>1984</td>\n",
       "      <td>26628</td>\n",
       "      <td>90605</td>\n",
       "      <td>33.936747</td>\n",
       "      <td>-118.044584</td>\n",
       "      <td>62.325549</td>\n",
       "      <td>1</td>\n",
       "      <td>7</td>\n",
       "      <td>2</td>\n",
       "      <td>0</td>\n",
       "    </tr>\n",
       "  </tbody>\n",
       "</table>\n",
       "</div>"
      ],
      "text/plain": [
       "              ain  taxratearea  yearbuilt  effectiveyearbuilt  sqftmain  \\\n",
       "182    2671023017           16       1960                1960      2632   \n",
       "24589  5228004017          964       1947                1947      3177   \n",
       "20613  5738010047         7500       1925                1948      2416   \n",
       "24032  4005017030         6612       1924                1924      3600   \n",
       "4557   8029004036         9081       1943                1960      1456   \n",
       "\n",
       "       roll_landbaseyear  cluster  situszip5  center_lat  center_lon  \\\n",
       "182                 1993    24630      91343   34.235936 -118.484568   \n",
       "24589               2008    27636      90063   34.055426 -118.179037   \n",
       "20613               1998    27615      91106   34.149840 -118.127494   \n",
       "24032               1991    25675      90043   33.988800 -118.323007   \n",
       "4557                1984    26628      90605   33.936747 -118.044584   \n",
       "\n",
       "       landvalue_per_sqft  usecode1  usecode2  usecode3  usecode4  \n",
       "182             67.004559         1         6         0         0  \n",
       "24589          142.494492         1         7         0         0  \n",
       "20613           72.542632         1         2         1         0  \n",
       "24032           38.131111         1         1         0         0  \n",
       "4557            62.325549         1         7         2         0  "
      ]
     },
     "execution_count": 8,
     "metadata": {},
     "output_type": "execute_result"
    }
   ],
   "source": [
    "#Combining the processed numerical and categorical features\n",
    "#X_train = np.hstack((train, train_cat))\n",
    "#X_test = np.hstack((test, test_cat))\n",
    "X_train = train_df #+ train_cat\n",
    "X_test = test_df #+ test_cat\n",
    "X_train = train_df.drop(['usecode'],1)\n",
    "X_test = test_df.drop(['usecode'],1)\n",
    "X_train.head()\n"
   ]
  },
  {
   "cell_type": "code",
   "execution_count": 33,
   "metadata": {},
   "outputs": [],
   "source": [
    "models = [AdaBoostRegressor(learning_rate=2),\n",
    "          SVR(kernel='linear'),\n",
    "          RandomForestRegressor(n_estimators=200, random_state=1)]\n",
    "errors = []\n",
    "for model in models:\n",
    "    model_name = model.__class__.__name__\n",
    "    error = np.sqrt(abs(cross_val_score(model, X_train, Y_train, cv=5, scoring='neg_mean_squared_error'))).mean()\n",
    "    errors.append([model_name, error])\n",
    "    \n",
    "result_df = pd.DataFrame(errors, columns=['Model name', 'Average error'])"
   ]
  },
  {
   "cell_type": "code",
   "execution_count": null,
   "metadata": {},
   "outputs": [],
   "source": [
    "result_df"
   ]
  },
  {
   "cell_type": "code",
   "execution_count": null,
   "metadata": {},
   "outputs": [],
   "source": [
    "models = [#AdaBoostRegressor(learning_rate=2),\n",
    "          #SVR(kernel='linear'),\n",
    "          RandomForestRegressor(n_estimators=200, random_state=1)]\n",
    "errors = []\n",
    "for model in models:\n",
    "    model_name = model.__class__.__name__\n",
    "    error = np.sqrt(abs(cross_val_score(model, X_train, Y_train, cv=5, scoring='neg_mean_squared_error'))).mean()\n",
    "    errors.append([model_name, error])\n",
    "    \n",
    "result_df_RFR = pd.DataFrame(errors, columns=['Model name', 'Average error'])\n",
    "result_df_RFR"
   ]
  },
  {
   "cell_type": "code",
   "execution_count": null,
   "metadata": {},
   "outputs": [],
   "source": [
    "models = [#AdaBoostRegressor(learning_rate=2),\n",
    "          SVR(kernel='linear')]\n",
    "          #RandomForestRegressor(n_estimators=200, random_state=1)]\n",
    "errors = []\n",
    "for model in models:\n",
    "    model_name = model.__class__.__name__\n",
    "    error = np.sqrt(abs(cross_val_score(model, X_train, Y_train, cv=5, scoring='neg_mean_squared_error'))).mean()\n",
    "    errors.append([model_name, error])\n",
    "    \n",
    "result_df_SVR = pd.DataFrame(errors, columns=['Model name', 'Average error'])\n",
    "result_df_SVR"
   ]
  },
  {
   "cell_type": "code",
   "execution_count": null,
   "metadata": {},
   "outputs": [],
   "source": []
  }
 ],
 "metadata": {
  "interpreter": {
   "hash": "5943991b82c93b326c6e188c18a01ae2a9e418485371abd4ed1b8eab6bd57030"
  },
  "kernelspec": {
   "display_name": "Python 2.7.13 64-bit ('cs121': conda)",
   "name": "python3"
  },
  "language_info": {
   "codemirror_mode": {
    "name": "ipython",
    "version": 2
   },
   "file_extension": ".py",
   "mimetype": "text/x-python",
   "name": "python",
   "nbconvert_exporter": "python",
   "pygments_lexer": "ipython2",
   "version": "2.7.13"
  }
 },
 "nbformat": 4,
 "nbformat_minor": 2
}
