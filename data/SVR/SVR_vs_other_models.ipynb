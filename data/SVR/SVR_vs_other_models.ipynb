{
 "cells": [
  {
   "cell_type": "markdown",
   "metadata": {},
   "source": [
    "get data from local database "
   ]
  },
  {
   "cell_type": "code",
   "execution_count": 31,
   "metadata": {
    "scrolled": true
   },
   "outputs": [
    {
     "name": "stdout",
     "output_type": "stream",
     "text": [
      "successfully connected to database\n",
      "90065\n",
      "('# of parcels updated in 2020: ', 108)\n",
      "('# of parcels updated in 2021: ', 27)\n",
      "('total # of parcels in table: ', 30094)\n"
     ]
    },
    {
     "data": {
      "text/html": [
       "<div>\n",
       "<style scoped>\n",
       "    .dataframe tbody tr th:only-of-type {\n",
       "        vertical-align: middle;\n",
       "    }\n",
       "\n",
       "    .dataframe tbody tr th {\n",
       "        vertical-align: top;\n",
       "    }\n",
       "\n",
       "    .dataframe thead th {\n",
       "        text-align: right;\n",
       "    }\n",
       "</style>\n",
       "<table border=\"1\" class=\"dataframe\">\n",
       "  <thead>\n",
       "    <tr style=\"text-align: right;\">\n",
       "      <th></th>\n",
       "      <th>ain</th>\n",
       "      <th>taxratearea</th>\n",
       "      <th>usecode</th>\n",
       "      <th>yearbuilt</th>\n",
       "      <th>effectiveyearbuilt</th>\n",
       "      <th>sqftmain</th>\n",
       "      <th>roll_landvalue</th>\n",
       "      <th>roll_landbaseyear</th>\n",
       "      <th>cluster</th>\n",
       "      <th>situszip5</th>\n",
       "      <th>center_lat</th>\n",
       "      <th>center_lon</th>\n",
       "      <th>landvalue_per_sqft</th>\n",
       "    </tr>\n",
       "  </thead>\n",
       "  <tbody>\n",
       "    <tr>\n",
       "      <th>0</th>\n",
       "      <td>5454027038</td>\n",
       "      <td>4</td>\n",
       "      <td>1100</td>\n",
       "      <td>1994</td>\n",
       "      <td>1994</td>\n",
       "      <td>779</td>\n",
       "      <td>65955.0</td>\n",
       "      <td>1987</td>\n",
       "      <td>27680</td>\n",
       "      <td>90065</td>\n",
       "      <td>34.095796</td>\n",
       "      <td>-118.228163</td>\n",
       "      <td>84.666239</td>\n",
       "    </tr>\n",
       "    <tr>\n",
       "      <th>1</th>\n",
       "      <td>6052030026</td>\n",
       "      <td>461</td>\n",
       "      <td>1100</td>\n",
       "      <td>1964</td>\n",
       "      <td>1964</td>\n",
       "      <td>1000</td>\n",
       "      <td>8339.0</td>\n",
       "      <td>1975</td>\n",
       "      <td>26631</td>\n",
       "      <td>90003</td>\n",
       "      <td>33.947870</td>\n",
       "      <td>-118.265508</td>\n",
       "      <td>8.339000</td>\n",
       "    </tr>\n",
       "    <tr>\n",
       "      <th>2</th>\n",
       "      <td>4231020033</td>\n",
       "      <td>12463</td>\n",
       "      <td>1100</td>\n",
       "      <td>0</td>\n",
       "      <td>1955</td>\n",
       "      <td>1250</td>\n",
       "      <td>50626.0</td>\n",
       "      <td>1975</td>\n",
       "      <td>25691</td>\n",
       "      <td>90066</td>\n",
       "      <td>33.996590</td>\n",
       "      <td>-118.429746</td>\n",
       "      <td>40.500800</td>\n",
       "    </tr>\n",
       "    <tr>\n",
       "      <th>3</th>\n",
       "      <td>5359005001</td>\n",
       "      <td>1797</td>\n",
       "      <td>1100</td>\n",
       "      <td>1961</td>\n",
       "      <td>1961</td>\n",
       "      <td>612</td>\n",
       "      <td>61899.0</td>\n",
       "      <td>1975</td>\n",
       "      <td>27630</td>\n",
       "      <td>91801</td>\n",
       "      <td>34.078510</td>\n",
       "      <td>-118.118021</td>\n",
       "      <td>101.142157</td>\n",
       "    </tr>\n",
       "    <tr>\n",
       "      <th>4</th>\n",
       "      <td>4231018015</td>\n",
       "      <td>67</td>\n",
       "      <td>1100</td>\n",
       "      <td>1949</td>\n",
       "      <td>1949</td>\n",
       "      <td>621</td>\n",
       "      <td>31585.0</td>\n",
       "      <td>1975</td>\n",
       "      <td>25691</td>\n",
       "      <td>90066</td>\n",
       "      <td>33.996502</td>\n",
       "      <td>-118.428373</td>\n",
       "      <td>50.861514</td>\n",
       "    </tr>\n",
       "  </tbody>\n",
       "</table>\n",
       "</div>"
      ],
      "text/plain": [
       "          ain  taxratearea usecode  yearbuilt  effectiveyearbuilt  sqftmain  \\\n",
       "0  5454027038            4    1100       1994                1994       779   \n",
       "1  6052030026          461    1100       1964                1964      1000   \n",
       "2  4231020033        12463    1100          0                1955      1250   \n",
       "3  5359005001         1797    1100       1961                1961       612   \n",
       "4  4231018015           67    1100       1949                1949       621   \n",
       "\n",
       "   roll_landvalue  roll_landbaseyear  cluster  situszip5  center_lat  \\\n",
       "0         65955.0               1987    27680      90065   34.095796   \n",
       "1          8339.0               1975    26631      90003   33.947870   \n",
       "2         50626.0               1975    25691      90066   33.996590   \n",
       "3         61899.0               1975    27630      91801   34.078510   \n",
       "4         31585.0               1975    25691      90066   33.996502   \n",
       "\n",
       "   center_lon  landvalue_per_sqft  \n",
       "0 -118.228163           84.666239  \n",
       "1 -118.265508            8.339000  \n",
       "2 -118.429746           40.500800  \n",
       "3 -118.118021          101.142157  \n",
       "4 -118.428373           50.861514  "
      ]
     },
     "execution_count": 31,
     "metadata": {},
     "output_type": "execute_result"
    },
    {
     "data": {
      "image/png": "[encoded data removed]",
      "text/plain": [
       "<Figure size 432x288 with 1 Axes>"
      ]
     },
     "metadata": {
      "needs_background": "light"
     },
     "output_type": "display_data"
    }
   ],
   "source": [
    "# %%time\n",
    "import pandas as pd\n",
    "import psycopg2\n",
    "import os\n",
    "from sklearn.model_selection import train_test_split\n",
    "import numpy as np\n",
    "import matplotlib.pyplot as plt\n",
    "%matplotlib inline\n",
    "\n",
    "\n",
    "# read data from local psql database into pd dataframe\n",
    "try:\n",
    "    #conn = psycopg2.connect(database='parcelDatabase', user=os.getenv(\n",
    "    #    \"USER\"), password=os.getenv(\"PASSWORD\"))\n",
    "    # USE CORRECT INFO FOR YOUR COMPUTER\n",
    "    tablename = \"svr_table_2\"\n",
    "    conn = psycopg2.connect(database=\"parceldatabase\", user=\"newuser\", password=\"password\")\n",
    "    print(\"successfully connected to database\")\n",
    "except:\n",
    "    print(\"I am unable to connect to the database\")\n",
    "df = pd.read_sql_query('select * from \"'+tablename+'\"', con=conn)\n",
    "\n",
    "# print(df.head())\n",
    "print(df.iloc[0].situszip5)\n",
    "\n",
    "# taking out irrelevant columns and cols related to building/development on land. Usecode is relevant col but dropping\n",
    "# b/c we can't parse it rn\n",
    "# isTaxableParcel is yes for all, so it's not needed here\n",
    "# usecodedescchar1/usecodedescchar2 are captured by usecode\n",
    "drop_cols = ['istaxableparcel', 'usecodedescchar1', 'usecodedescchar2']\n",
    "\n",
    "cat_cols = ['usecode']\n",
    "\n",
    "df = df.drop(drop_cols, 1)\n",
    "\n",
    "# convert columns of df to numeric\n",
    "numeric_cols = [\"roll_landbaseyear\", \"taxratearea\", \n",
    "                \"center_lat\", \"cluster\", \"situszip5\",\n",
    "                \"center_lon\", \"roll_landvalue\", \"sqftmain\", \n",
    "                \"effectiveyearbuilt\", \"yearbuilt\"]\n",
    "df[numeric_cols] = df[numeric_cols].apply(pd.to_numeric)\n",
    "\n",
    "#  add land value per sqft column\n",
    "df['landvalue_per_sqft'] = df['roll_landvalue'] / df['sqftmain']\n",
    "\n",
    "# some basic visuals on distr of the land base year\n",
    "df.hist(column=\"sqftmain\", range=[0, 200], bins=51)\n",
    "\n",
    "df_updated_2020 = df[df[\"roll_landbaseyear\"] == 2020]\n",
    "df_updated_2021 = df[df[\"roll_landbaseyear\"] == 2021]\n",
    "\n",
    "print(\"# of parcels updated in 2020: \", len(df_updated_2020))\n",
    "print(\"# of parcels updated in 2021: \", len(df_updated_2021))\n",
    "print(\"total # of parcels in table: \", len(df))\n",
    "#display all columns in db\n",
    "pd.set_option('display.max_columns', None)\n",
    "df.head()\n"
   ]
  },
  {
   "cell_type": "code",
   "execution_count": 32,
   "metadata": {},
   "outputs": [],
   "source": [
    "# !pip install sklearn_pandas\n",
    "# !pip3 install -U sklearn_pandas"
   ]
  },
  {
   "cell_type": "markdown",
   "metadata": {},
   "source": [
    "based on this reference: https://www.kaggle.com/gauthampughazh/house-sales-price-prediction-svr/notebook"
   ]
  },
  {
   "cell_type": "code",
   "execution_count": 33,
   "metadata": {},
   "outputs": [
    {
     "name": "stdout",
     "output_type": "stream",
     "text": [
      "CPU times: user 49 µs, sys: 5 µs, total: 54 µs\n",
      "Wall time: 56 µs\n"
     ]
    }
   ],
   "source": [
    "%%time\n",
    "import plotly.graph_objects as go\n",
    "import plotly.express as px\n",
    "import seaborn as sns\n",
    "from sklearn.impute import SimpleImputer\n",
    "from sklearn_pandas import CategoricalImputer\n",
    "from sklearn.preprocessing import StandardScaler, MinMaxScaler\n",
    "from sklearn.preprocessing import OneHotEncoder\n",
    "from sklearn.model_selection import RandomizedSearchCV\n",
    "from sklearn.model_selection import cross_val_score\n",
    "from sklearn.svm import SVR\n",
    "from sklearn.ensemble import RandomForestRegressor, AdaBoostRegressor, GradientBoostingRegressor\n",
    "from IPython.display import FileLink"
   ]
  },
  {
   "cell_type": "code",
   "execution_count": 34,
   "metadata": {},
   "outputs": [],
   "source": [
    "# method to turn all characters from usecode to numbers instead of letters\n",
    "lettersToNumbers = {\"A\": 10, \"B\": 11, \"C\": 12, \"D\": 13, \"E\": 14, \"F\": 15, \"G\": 16,\n",
    "                    \"H\": 17, \"I\": 18, \"J\": 19, \"K\": 20, \"L\": 21, \"M\": 22, \"N\": 23,\n",
    "                    \"O\": 24, \"P\": 25, \"Q\": 26, \"R\": 27, \"S\": 28, \"T\": 29, \"U\": 30,\n",
    "                    \"V\": 31, \"W\": 32, \"X\": 33, \"Y\": 34, \"Z\": 35, \" \": -1, \"*\": -2}\n",
    "def encode(col):\n",
    "    for x in lettersToNumbers:\n",
    "        df[col] = df[col].replace(x,lettersToNumbers[x])"
   ]
  },
  {
   "cell_type": "code",
   "execution_count": 35,
   "metadata": {},
   "outputs": [],
   "source": [
    "# create a new column for each use code character\n",
    "df['usecode1'] = df['usecode'].astype(str).str[0]\n",
    "df['usecode2'] = df['usecode'].astype(str).str[1]\n",
    "df['usecode3'] = df['usecode'].astype(str).str[2]\n",
    "df['usecode4'] = df['usecode'].astype(str).str[3]\n",
    "\n",
    "# turn all letters in these new columns into numbers\n",
    "encode('usecode1')\n",
    "encode('usecode2')\n",
    "encode('usecode3')\n",
    "encode('usecode4')\n",
    "\n",
    "# turn new cols into numeric values instead of string values\n",
    "usecode_cols = ['usecode1', 'usecode2', 'usecode3', 'usecode4']\n",
    "df[usecode_cols] = df[usecode_cols].apply(pd.to_numeric)\n",
    "\n",
    "# drop use code column since it is now represented by other cols\n",
    "df = df.drop(['usecode'],1)"
   ]
  },
  {
   "cell_type": "code",
   "execution_count": 36,
   "metadata": {},
   "outputs": [
    {
     "name": "stdout",
     "output_type": "stream",
     "text": [
      "349\n"
     ]
    }
   ],
   "source": [
    "# using a smaller sample here - filtering to only properties with a land base year of 2020 or higher\n",
    "df = df[df['roll_landbaseyear'] > 2018]\n",
    "print(len(df.index))"
   ]
  },
  {
   "cell_type": "code",
   "execution_count": 37,
   "metadata": {},
   "outputs": [
    {
     "name": "stdout",
     "output_type": "stream",
     "text": [
      "345\n"
     ]
    }
   ],
   "source": [
    "# remove properties with higher land value\n",
    "df = df[df['landvalue_per_sqft'] < 3000]\n",
    "print(len(df.index))"
   ]
  },
  {
   "cell_type": "code",
   "execution_count": 38,
   "metadata": {},
   "outputs": [
    {
     "data": {
      "image/png": "[encoded data removed]",
      "text/plain": [
       "<Figure size 1080x864 with 2 Axes>"
      ]
     },
     "metadata": {
      "needs_background": "light"
     },
     "output_type": "display_data"
    }
   ],
   "source": [
    "\n",
    "# split data into test and train\n",
    "train_df, test_df = train_test_split(df, test_size=0.3)\n",
    "\n",
    "# get correlation matrix\n",
    "corr_matrix = train_df.corr()\n",
    "fig, ax = plt.subplots(figsize=(15, 12))\n",
    "sns.heatmap(corr_matrix, vmax=0.8, square=True)\n",
    "plt.show()\n"
   ]
  },
  {
   "cell_type": "code",
   "execution_count": 39,
   "metadata": {},
   "outputs": [],
   "source": [
    "#train_df = train_df.drop(['landvalue_per_sqft'], axis=1)\n",
    "#test_df = test_df.drop(['landvalue_per_sqft'], axis=1)\n",
    "# Extracting the land value from sample data (what we're trying to find)\n",
    "#Y_train = train_df['roll_landvalue'].values\n",
    "#Y_test = test_df['roll_landvalue'].values\n",
    "#train_df = train_df.drop(['roll_landvalue'], axis=1)\n",
    "#test_df = test_df.drop(['roll_landvalue'], axis=1)\n",
    "train_df = train_df.drop(['roll_landvalue'], axis=1)\n",
    "test_df = test_df.drop(['roll_landvalue'], axis=1)\n",
    "# Extracting the land value from sample data (what we're trying to find)\n",
    "Y_train = train_df['landvalue_per_sqft'].values\n",
    "Y_test = test_df['landvalue_per_sqft'].values\n",
    "train_df = train_df.drop(['landvalue_per_sqft'], axis=1)\n",
    "test_df = test_df.drop(['landvalue_per_sqft'], axis=1)"
   ]
  },
  {
   "cell_type": "code",
   "execution_count": 40,
   "metadata": {},
   "outputs": [],
   "source": [
    "X_train = train_df \n",
    "X_test = test_df "
   ]
  },
  {
   "cell_type": "code",
   "execution_count": 41,
   "metadata": {},
   "outputs": [
    {
     "name": "stderr",
     "output_type": "stream",
     "text": [
      "/Users/Anna/anaconda/envs/cs121/lib/python2.7/site-packages/sklearn/preprocessing/data.py:334: DataConversionWarning:\n",
      "\n",
      "Data with input dtype int64, float64, object were all converted to float64 by MinMaxScaler.\n",
      "\n"
     ]
    }
   ],
   "source": [
    "# scaling\n",
    "# Creating a scaler for input features\n",
    "X_scaler = MinMaxScaler()\n",
    "\n",
    "# Transforming the input features of both train and test\n",
    "X_train = X_scaler.fit_transform(X_train)\n",
    "X_test = X_scaler.transform(X_test)\n",
    "\n",
    "#transform back to  datafram\n",
    "X_train = pd.DataFrame(X_train, columns=[\n",
    "  'ain', 'taxratearea', 'yearbuilt', 'effectiveyearbuilt', 'sqftmain', 'roll_landbaseyear', 'cluster', 'situszip5', 'center_lat',  \n",
    "  'center_lon', 'usecode1', 'usecode2', 'usecode3', 'usecode4'])\n",
    "X_test = pd.DataFrame(X_test, columns=[\n",
    "  'ain', 'taxratearea', 'yearbuilt', 'effectiveyearbuilt', 'sqftmain', 'roll_landbaseyear', 'cluster', 'situszip5', 'center_lat',  \n",
    "  'center_lon', 'usecode1', 'usecode2', 'usecode3', 'usecode4'])\n"
   ]
  },
  {
   "cell_type": "code",
   "execution_count": 42,
   "metadata": {},
   "outputs": [
    {
     "name": "stderr",
     "output_type": "stream",
     "text": [
      "/Users/Anna/anaconda/envs/cs121/lib/python2.7/site-packages/sklearn/svm/base.py:931: ConvergenceWarning:\n",
      "\n",
      "Liblinear failed to converge, increase the number of iterations.\n",
      "\n"
     ]
    },
    {
     "data": {
      "text/plain": [
       "LinearSVR(C=100.0, dual=True, epsilon=35, fit_intercept=True,\n",
       "     intercept_scaling=1.0, loss='epsilon_insensitive', max_iter=1000,\n",
       "     random_state=0, tol=1e-05, verbose=0)"
      ]
     },
     "execution_count": 42,
     "metadata": {},
     "output_type": "execute_result"
    }
   ],
   "source": [
    "from sklearn.svm import LinearSVR\n",
    "svr = LinearSVR(random_state=0, tol=1e-5, max_iter=1000, C=100.0, epsilon=35)\n",
    "svr.fit(X_train,Y_train)"
   ]
  },
  {
   "cell_type": "code",
   "execution_count": 43,
   "metadata": {},
   "outputs": [],
   "source": [
    "y_pred = svr.predict(X_test)"
   ]
  },
  {
   "cell_type": "code",
   "execution_count": 44,
   "metadata": {},
   "outputs": [
    {
     "data": {
      "image/png": "[encoded data removed]",
      "text/plain": [
       "<Figure size 432x288 with 1 Axes>"
      ]
     },
     "metadata": {
      "needs_background": "light"
     },
     "output_type": "display_data"
    }
   ],
   "source": [
    "# Evaluate model\n",
    "plt.scatter(X_test['roll_landbaseyear'], Y_test, color=\"darkorange\", label=\"data\")\n",
    "plt.scatter(X_test['roll_landbaseyear'], y_pred, color=\"navy\", label=\"prediction\")\n",
    "plt.legend()\n",
    "plt.xlabel('Year')\n",
    "plt.ylabel('Land value per sqft')\n",
    "plt.title(\"SVR Algorithm (linear) on sample data\")\n",
    "plt.show()\n"
   ]
  },
  {
   "cell_type": "code",
   "execution_count": 45,
   "metadata": {},
   "outputs": [
    {
     "data": {
      "text/plain": [
       "515.1539256644761"
      ]
     },
     "execution_count": 45,
     "metadata": {},
     "output_type": "execute_result"
    }
   ],
   "source": [
    "from math import sqrt\n",
    "from sklearn.metrics import mean_squared_error\n",
    "error = sqrt(mean_squared_error(Y_test,y_pred))\n",
    "error"
   ]
  },
  {
   "cell_type": "code",
   "execution_count": 46,
   "metadata": {},
   "outputs": [],
   "source": [
    "models = [AdaBoostRegressor(learning_rate=2),\n",
    "          LinearSVR(random_state=0, tol=1e-5, max_iter=1000, C=10.0, epsilon=10),\n",
    "          RandomForestRegressor(n_estimators=200, random_state=1)]\n",
    "errors = []\n",
    "for model in models:\n",
    "    model_name = model.__class__.__name__\n",
    "    error = np.sqrt(abs(cross_val_score(model, X_train, Y_train, cv=5, scoring='neg_mean_squared_error'))).mean()\n",
    "    errors.append([model_name, error])\n",
    "    \n",
    "result_df = pd.DataFrame(errors, columns=['Model name', 'Average error'])"
   ]
  },
  {
   "cell_type": "code",
   "execution_count": 47,
   "metadata": {},
   "outputs": [
    {
     "data": {
      "text/html": [
       "<div>\n",
       "<style scoped>\n",
       "    .dataframe tbody tr th:only-of-type {\n",
       "        vertical-align: middle;\n",
       "    }\n",
       "\n",
       "    .dataframe tbody tr th {\n",
       "        vertical-align: top;\n",
       "    }\n",
       "\n",
       "    .dataframe thead th {\n",
       "        text-align: right;\n",
       "    }\n",
       "</style>\n",
       "<table border=\"1\" class=\"dataframe\">\n",
       "  <thead>\n",
       "    <tr style=\"text-align: right;\">\n",
       "      <th></th>\n",
       "      <th>Model name</th>\n",
       "      <th>Average error</th>\n",
       "    </tr>\n",
       "  </thead>\n",
       "  <tbody>\n",
       "    <tr>\n",
       "      <th>0</th>\n",
       "      <td>AdaBoostRegressor</td>\n",
       "      <td>273.610939</td>\n",
       "    </tr>\n",
       "    <tr>\n",
       "      <th>1</th>\n",
       "      <td>LinearSVR</td>\n",
       "      <td>289.551501</td>\n",
       "    </tr>\n",
       "    <tr>\n",
       "      <th>2</th>\n",
       "      <td>RandomForestRegressor</td>\n",
       "      <td>267.536595</td>\n",
       "    </tr>\n",
       "  </tbody>\n",
       "</table>\n",
       "</div>"
      ],
      "text/plain": [
       "              Model name  Average error\n",
       "0      AdaBoostRegressor     273.610939\n",
       "1              LinearSVR     289.551501\n",
       "2  RandomForestRegressor     267.536595"
      ]
     },
     "execution_count": 47,
     "metadata": {},
     "output_type": "execute_result"
    }
   ],
   "source": [
    "result_df"
   ]
  },
  {
   "cell_type": "code",
   "execution_count": null,
   "metadata": {},
   "outputs": [],
   "source": []
  }
 ],
 "metadata": {
  "interpreter": {
   "hash": "d991ab3653d0a6e321f7c5b5e455b4a71a6651037252d1490b687565479d6b49"
  },
  "kernelspec": {
   "display_name": "Python 2",
   "language": "python",
   "name": "python2"
  },
  "language_info": {
   "codemirror_mode": {
    "name": "ipython",
    "version": 2
   },
   "file_extension": ".py",
   "mimetype": "text/x-python",
   "name": "python",
   "nbconvert_exporter": "python",
   "pygments_lexer": "ipython2",
   "version": "2.7.13"
  }
 },
 "nbformat": 4,
 "nbformat_minor": 2
}
