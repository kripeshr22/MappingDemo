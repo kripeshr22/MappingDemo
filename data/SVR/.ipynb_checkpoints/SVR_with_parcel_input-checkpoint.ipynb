{
 "cells": [
  {
   "cell_type": "markdown",
   "metadata": {},
   "source": [
    "The roll_landbaseyear tells us when the land value was last updated.\n",
    "The properties with roll_landbaseyear 2021 are the up to date land values"
   ]
  },
  {
   "cell_type": "code",
   "execution_count": null,
   "metadata": {
    "collapsed": true
   },
   "outputs": [],
   "source": [
    "import pandas as pd\n",
    "import psycopg2\n",
    "import os\n",
    "\n",
    "# read data from local psql database into pd dataframe\n",
    "try:\n",
    "    conn = psycopg2.connect(database='parcelDatabase', user=os.getenv(\n",
    "        \"USER\"), password=os.getenv(\"PASSWORD\"))\n",
    "    print(\"successfully connected to database\")\n",
    "except:\n",
    "    print(\"I am unable to connect to the database\")\n",
    "df = pd.read_sql_query('select * from \"rawparceltable\"', con=conn)\n",
    "\n",
    "print(df.head())\n"
   ]
  },
  {
   "cell_type": "markdown",
   "metadata": {},
   "source": [
    "Format column types from default string"
   ]
  },
  {
   "cell_type": "code",
   "execution_count": null,
   "metadata": {
    "collapsed": true
   },
   "outputs": [],
   "source": [
    "# convert columns of df to numeric\n",
    "numeric_cols = [\"roll_landbaseyear\", \"center_lat\",\n",
    "                \"center_lon\", \"roll_landvalue\", \"sqftmain\"]\n",
    "df[numeric_cols] = df[numeric_cols].apply(pd.to_numeric)\n"
   ]
  },
  {
   "cell_type": "markdown",
   "metadata": {},
   "source": [
    "Getting distribution of land base roll year: a little over 2500 of the parcel values have been updated in the last year (total 50k values)"
   ]
  },
  {
   "cell_type": "code",
   "execution_count": null,
   "metadata": {
    "collapsed": true
   },
   "outputs": [],
   "source": [
    "import numpy as np\n",
    "import matplotlib.pyplot as plt\n",
    "%matplotlib inline\n",
    "\n",
    "df.hist(column=\"roll_landbaseyear\", range=[1970, 2025], bins=51)\n",
    "\n",
    "df_updated_2020 = df[df[\"roll_landbaseyear\"] == 2020]\n",
    "df_updated_2021 = df[df[\"roll_landbaseyear\"] == 2021]\n",
    "\n",
    "print(\"# of parcels updated in 2020: \", len(df_updated_2020))\n",
    "print(\"# of parcels updated in 2021: \", len(df_updated_2021))\n",
    "print(\"total # of parcels in table: \", len(df))\n"
   ]
  },
  {
   "cell_type": "markdown",
   "metadata": {},
   "source": [
    "feed as input into SVR model\n",
    "\n",
    "Reference:\n",
    "https://towardsdatascience.com/support-vector-regression-svr-one-of-the-most-flexible-yet-robust-prediction-algorithms-4d25fbdaca60"
   ]
  },
  {
   "cell_type": "code",
   "execution_count": null,
   "metadata": {
    "collapsed": true
   },
   "outputs": [],
   "source": [
    "# split data into test and train\n",
    "from sklearn.model_selection import train_test_split\n",
    "\n",
    "drop_cols = ['istaxableparcel', 'usecodedescchar1']\n",
    "df = df.drop(drop_cols, 1)\n",
    "\n",
    "train, test = train_test_split(df, test_size=0.2)"
   ]
  },
  {
   "cell_type": "code",
   "execution_count": null,
   "metadata": {
    "collapsed": true
   },
   "outputs": [],
   "source": [
    "# for building a linear regression model\n",
    "from sklearn.linear_model import LinearRegression\n",
    "from sklearn.svm import SVR  # for building support vector regression model\n",
    "import plotly.graph_objects as go  # for data visualization\n",
    "import plotly.express as px  # for data visualization\n",
    "\n",
    "# Create a scatter plot\n",
    "fig = px.scatter(df, x=df['sqftmain'], y=df['roll_landvalue'],\n",
    "                 opacity=0.8, color_discrete_sequence=['black'])\n",
    "\n",
    "# Change chart background color\n",
    "fig.update_layout(dict(plot_bgcolor='white'))\n",
    "\n",
    "# Update axes lines\n",
    "fig.update_xaxes(showgrid=True, gridwidth=1, gridcolor='lightgrey',\n",
    "                 zeroline=True, zerolinewidth=1, zerolinecolor='lightgrey',\n",
    "                 showline=True, linewidth=1, linecolor='black')\n",
    "\n",
    "fig.update_yaxes(showgrid=True, gridwidth=1, gridcolor='lightgrey',\n",
    "                 zeroline=True, zerolinewidth=1, zerolinecolor='lightgrey',\n",
    "                 showline=True, linewidth=1, linecolor='black')\n",
    "\n",
    "# Set figure title\n",
    "fig.update_layout(title=dict(text=\"Sale Prices based on sqft\",\n",
    "                             font=dict(color='black')))\n",
    "\n",
    "# Update marker size\n",
    "fig.update_traces(marker=dict(size=3))\n",
    "\n",
    "fig.show()\n"
   ]
  },
  {
   "cell_type": "markdown",
   "metadata": {},
   "source": [
    "SVR fitting"
   ]
  },
  {
   "cell_type": "code",
   "execution_count": null,
   "metadata": {
    "collapsed": true
   },
   "outputs": [],
   "source": [
    "# ------- Select variables -------\n",
    "# Note, we need X to be a 2D array, hence reshape\n",
    "X = df['sqftmain'].values.reshape(-1, 1)\n",
    "y = df['roll_landvalue'].values\n",
    "\n",
    "# ------- Linear regression -------\n",
    "model1 = LinearRegression()\n",
    "lr = model1.fit(X, y)\n",
    "\n",
    "# ------- Support Vector regression -------\n",
    "model2 = SVR(kernel='rbf', C=1, epsilon=10)  # set kernel and hyperparameters\n",
    "svr = model2.fit(X, y)\n",
    "\n",
    "# ------- Predict a range of values based on the models for visualization -------\n",
    "# Create 100 evenly spaced points from smallest X to largest X\n",
    "x_range = np.linspace(X.min(), X.max(), 100)\n",
    "\n",
    "# Predict y values for our set of X values\n",
    "y_lr = model1.predict(x_range.reshape(-1, 1))  # Linear regression\n",
    "y_svr = model2.predict(x_range.reshape(-1, 1))  # SVR\n"
   ]
  },
  {
   "cell_type": "markdown",
   "metadata": {},
   "source": [
    "visualize the two models"
   ]
  },
  {
   "cell_type": "code",
   "execution_count": null,
   "metadata": {
    "collapsed": true
   },
   "outputs": [],
   "source": [
    "# Create a scatter plot\n",
    "fig = px.scatter(df, x=df['sqftmain'], y=df['roll_landvalue'],\n",
    "                 opacity=0.8, color_discrete_sequence=['black'])\n",
    "\n",
    "# Add a best-fit line\n",
    "fig.add_traces(go.Scatter(x=x_range, y=y_lr,\n",
    "                          name='Linear Regression', line=dict(color='limegreen')))\n",
    "fig.add_traces(go.Scatter(x=x_range, y=y_svr,\n",
    "                          name='Support Vector Regression', line=dict(color='red')))\n",
    "fig.add_traces(go.Scatter(x=x_range, y=y_svr + 10,\n",
    "                          name='+epsilon', line=dict(color='red', dash='dot')))\n",
    "fig.add_traces(go.Scatter(x=x_range, y=y_svr - 10,\n",
    "                          name='-epsilon', line=dict(color='red', dash='dot')))\n",
    "\n",
    "# Change chart background color\n",
    "fig.update_layout(dict(plot_bgcolor='white'))\n",
    "\n",
    "# Update axes lines\n",
    "fig.update_xaxes(showgrid=True, gridwidth=1, gridcolor='lightgrey',\n",
    "                 zeroline=True, zerolinewidth=1, zerolinecolor='lightgrey',\n",
    "                 showline=True, linewidth=1, linecolor='black')\n",
    "\n",
    "fig.update_yaxes(showgrid=True, gridwidth=1, gridcolor='lightgrey',\n",
    "                 zeroline=True, zerolinewidth=1, zerolinecolor='lightgrey',\n",
    "                 showline=True, linewidth=1, linecolor='black')\n",
    "\n",
    "# Set figure title\n",
    "fig.update_layout(title=dict(text=\"Sale Price based on Sqft with Model Predictions (epsilon=10, C=1)\",\n",
    "                             font=dict(color='black')))\n",
    "# Update marker size\n",
    "fig.update_traces(marker=dict(size=3))\n",
    "\n",
    "fig.show()\n"
   ]
  },
  {
   "cell_type": "markdown",
   "metadata": {},
   "source": [
    "3D scatter plot based on both sqft and roll year (last updated year)"
   ]
  },
  {
   "cell_type": "code",
   "execution_count": null,
   "metadata": {
    "collapsed": true
   },
   "outputs": [],
   "source": [
    "\n",
    "# Create a 3D scatter plot\n",
    "fig = px.scatter_3d(df, x=df['sqftmain'], y=df['roll_landbaseyear'], z=df['roll_landvalue'],\n",
    "                    opacity=0.8, color_discrete_sequence=['black'])\n",
    "\n",
    "# Set figure title\n",
    "fig.update_layout(title_text=\"Scatter 3D Plot\",\n",
    "                  scene=dict(xaxis=dict(backgroundcolor='white',\n",
    "                                        color='black',\n",
    "                                        gridcolor='lightgrey'),\n",
    "                             yaxis=dict(backgroundcolor='white',\n",
    "                                        color='black',\n",
    "                                        gridcolor='lightgrey'\n",
    "                                        ),\n",
    "                             zaxis=dict(backgroundcolor='white',\n",
    "                                        color='black',\n",
    "                                        gridcolor='lightgrey')))\n",
    "\n",
    "# Update marker size\n",
    "fig.update_traces(marker=dict(size=3))\n",
    "\n",
    "fig.show()\n"
   ]
  },
  {
   "cell_type": "markdown",
   "metadata": {},
   "source": [
    "Training the SVR model on sqft and roll year\n",
    "\n",
    "We use the following hyperparameters for the SVR model: epsilon = 1, C = 100. These parameters are not ideal for this model. We should train and test multiple versions of the model to identify more optimal hyperparameter values.\n"
   ]
  },
  {
   "cell_type": "code",
   "execution_count": 10,
   "metadata": {
    "collapsed": true
   },
   "outputs": [],
   "source": [
    "# ----------- Select variables -----------\n",
    "X = df[['sqftmain', 'roll_landbaseyear']]\n",
    "y = df['roll_landvalue'].values\n",
    "\n",
    "# ----------- Model fitting -----------\n",
    "# Define models and set hyperparameter values\n",
    "model1 = LinearRegression()\n",
    "model2 = SVR(kernel='rbf', C=100, epsilon=1)\n",
    "\n",
    "# Fit the two models\n",
    "lr = model1.fit(X, y)\n",
    "svr = model2.fit(X, y)\n",
    "\n",
    "# ----------- For creating a prediciton plane to be used in the visualization -----------\n",
    "# Set Increments between points in a meshgrid\n",
    "mesh_size = 1\n",
    "\n",
    "# Identify min and max values for input variables\n",
    "x_min, x_max = X['sqftmain'].min(\n",
    "), X['sqftmain'].max()\n",
    "y_min, y_max = X['roll_landbaseyear'].min(), X['roll_landbaseyear'].max()\n",
    "\n",
    "# Return evenly spaced values based on a range between min and max\n",
    "xrange = np.arange(x_min, x_max, mesh_size)\n",
    "yrange = np.arange(y_min, y_max, mesh_size)\n",
    "\n",
    "# Create a meshgrid\n",
    "xx, yy = np.meshgrid(xrange, yrange)\n",
    "\n",
    "# ----------- Create a prediciton plane  -----------\n",
    "# Use models to create a prediciton plane --- Linear Regression\n",
    "pred_LR = model1.predict(np.c_[xx.ravel(), yy.ravel()])\n",
    "pred_LR = pred_LR.reshape(xx.shape)\n",
    "\n",
    "# Use models to create a prediciton plane --- SVR\n",
    "pred_svr = model2.predict(np.c_[xx.ravel(), yy.ravel()])\n",
    "pred_svr = pred_svr.reshape(xx.shape)\n",
    "\n",
    "# Note, .ravel() flattens the array to a 1D array,\n",
    "# then np.c_ takes elements from flattened xx and yy arrays and puts them together,\n",
    "# this creates the right shape required for model input\n",
    "\n",
    "# prediction array that is created by the model output is a 1D array,\n",
    "# Hence, we need to reshape it to be the same shape as xx or yy to be able to display it on a graph\n"
   ]
  },
  {
   "cell_type": "markdown",
   "metadata": {},
   "source": [
    "visualize the linear regression model"
   ]
  },
  {
   "cell_type": "code",
   "execution_count": null,
   "metadata": {
    "collapsed": true
   },
   "outputs": [],
   "source": [
    "# Create a 3D scatter plot with predictions\n",
    "fig = px.scatter_3d(df, x=df['sqftmain'], y=df['roll_landbaseyear'], z=df['roll_landvalue'],\n",
    "                    opacity=0.8, color_discrete_sequence=['black'])\n",
    "\n",
    "# Set figure title and colors\n",
    "fig.update_layout(title_text=\"Scatter 3D Plot with Linear Regression Prediction Surface\",\n",
    "                  scene=dict(xaxis=dict(backgroundcolor='white',\n",
    "                                        color='black',\n",
    "                                        gridcolor='lightgrey'),\n",
    "                             yaxis=dict(backgroundcolor='white',\n",
    "                                        color='black',\n",
    "                                        gridcolor='lightgrey'\n",
    "                                        ),\n",
    "                             zaxis=dict(backgroundcolor='white',\n",
    "                                        color='black',\n",
    "                                        gridcolor='lightgrey')))\n",
    "# Update marker size\n",
    "fig.update_traces(marker=dict(size=3))\n",
    "\n",
    "# Add prediction plane\n",
    "fig.add_traces(go.Surface(x=xrange, y=yrange, z=pred_LR, name='LR'))\n",
    "\n",
    "fig.show()\n"
   ]
  },
  {
   "cell_type": "markdown",
   "metadata": {},
   "source": [
    "Visualize the 3D SVR model"
   ]
  },
  {
   "cell_type": "code",
   "execution_count": null,
   "metadata": {
    "collapsed": true
   },
   "outputs": [],
   "source": [
    "# Create a 3D scatter plot with predictions\n",
    "fig = px.scatter_3d(df, x=df['sqftmain'], y=df['roll_landbaseyear'], z=df['roll_landvalue'],\n",
    "                    opacity=0.8, color_discrete_sequence=['black'])\n",
    "\n",
    "# Set figure title and colors\n",
    "fig.update_layout(title_text=\"Scatter 3D Plot with SVR Prediction Surface\",\n",
    "                  scene=dict(xaxis=dict(backgroundcolor='white',\n",
    "                                        color='black',\n",
    "                                        gridcolor='lightgrey'),\n",
    "                             yaxis=dict(backgroundcolor='white',\n",
    "                                        color='black',\n",
    "                                        gridcolor='lightgrey'\n",
    "                                        ),\n",
    "                             zaxis=dict(backgroundcolor='white',\n",
    "                                        color='black',\n",
    "                                        gridcolor='lightgrey')))\n",
    "# Update marker size\n",
    "fig.update_traces(marker=dict(size=3))\n",
    "\n",
    "# Add prediction plane\n",
    "fig.add_traces(go.Surface(x=xrange, y=yrange, z=pred_svr, name='SVR',\n",
    "                          colorscale=px.colors.sequential.Plotly3))\n",
    "\n",
    "fig.show()\n"
   ]
  }
 ],
 "metadata": {
  "interpreter": {
   "hash": "ea26437821ed2593c5c88f415e48ff23c438f4666c7c8f8c20b16c35229502ea"
  },
  "kernelspec": {
   "display_name": "Python 2",
   "language": "python",
   "name": "python2"
  },
  "language_info": {
   "codemirror_mode": {
    "name": "ipython",
    "version": 2
   },
   "file_extension": ".py",
   "mimetype": "text/x-python",
   "name": "python",
   "nbconvert_exporter": "python",
   "pygments_lexer": "ipython2",
   "version": "2.7.13"
  }
 },
 "nbformat": 4,
 "nbformat_minor": 2
}
