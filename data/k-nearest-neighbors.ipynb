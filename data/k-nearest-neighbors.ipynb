{
 "cells": [
  {
   "cell_type": "code",
   "execution_count": 1,
   "id": "d384cbf1-d2e1-4486-90de-2963c74c2317",
   "metadata": {},
   "outputs": [],
   "source": [
    "import pandas as pd\n",
    "import numpy as np\n",
    "import matplotlib.pyplot as plt\n",
    "import seaborn as sns\n",
    "%matplotlib inline"
   ]
  },
  {
   "cell_type": "code",
   "execution_count": 2,
   "id": "4e23eaaf-3d88-41ae-b6e8-4d265b680b15",
   "metadata": {},
   "outputs": [],
   "source": [
    "import psycopg2\n",
    "from psycopg2.extras import execute_values"
   ]
  },
  {
   "cell_type": "code",
   "execution_count": 11,
   "id": "69cb59aa-c210-42cb-990b-85ff342c3956",
   "metadata": {},
   "outputs": [
    {
     "name": "stdout",
     "output_type": "stream",
     "text": [
      "successfully connected to database\n"
     ]
    }
   ],
   "source": [
    "try:\n",
    "    conn = psycopg2.connect(database='parceldatabase', user='techequity', password='clinic')\n",
    "    print(\"successfully connected to database\")\n",
    "except:\n",
    "    print(\"I am unable to connect to the database\")"
   ]
  },
  {
   "cell_type": "code",
   "execution_count": 13,
   "id": "e85a9707-c706-45ed-a5cf-846ed1319daf",
   "metadata": {},
   "outputs": [
    {
     "name": "stdout",
     "output_type": "stream",
     "text": [
      "query successful\n",
      "[('34.22021979', '-118.62066881', '756000'), ('34.22021979', '-118.62066881', '771120'), ('34.22021979', '-118.62066881', '700200'), ('34.22021979', '-118.62066881', '478600'), ('34.22021979', '-118.62066881', '478600'), ('34.22021979', '-118.62066881', '528000'), ('34.22021979', '-118.62066881', '463000'), ('34.22021979', '-118.62066881', '530000'), ('34.22021979', '-118.62066881', '615000'), ('34.22021979', '-118.62066881', '615000')]\n"
     ]
    }
   ],
   "source": [
    "# cursor\n",
    "cur = conn.cursor()\n",
    "    \n",
    "get_cols_query = \"select center_lat, center_lon, nettaxablevalue from rawparceltable\"\n",
    "sample_data = [];\n",
    "try: \n",
    "    cur.execute(get_cols_query)\n",
    "    sample_data = cur.fetchall()\n",
    "    \n",
    "    print(\"query successful\")\n",
    "except:\n",
    "    print(\"query failed\")\n",
    "\n",
    "    \n",
    "print(sample_data[0:10])"
   ]
  },
  {
   "cell_type": "code",
   "execution_count": 85,
   "id": "9c05a272-a67a-47d4-9a3e-c36852b378bd",
   "metadata": {},
   "outputs": [],
   "source": [
    "nettax = [float(item[2]) for item in sample_data]\n",
    "lat = [float(item[0]) for item in sample_data]\n",
    "long = [float(item[1]) for item in sample_data]"
   ]
  },
  {
   "cell_type": "code",
   "execution_count": 88,
   "id": "e16db739-5ebf-4488-bdc4-0e8a20298220",
   "metadata": {},
   "outputs": [],
   "source": [
    "data = list(zip(lat,long,nettax))"
   ]
  },
  {
   "cell_type": "code",
   "execution_count": 90,
   "id": "e9e94e0b-10f5-4575-a347-b46e4ad9c49b",
   "metadata": {},
   "outputs": [],
   "source": [
    "df = pd.DataFrame(data, columns=['latitutde','longitude',\n",
    "                                       'nettaxablevalue'])"
   ]
  },
  {
   "cell_type": "code",
   "execution_count": 91,
   "id": "4e2a375a-3a5e-4910-b2c7-96eca909112b",
   "metadata": {},
   "outputs": [
    {
     "data": {
      "text/html": [
       "<div>\n",
       "<style scoped>\n",
       "    .dataframe tbody tr th:only-of-type {\n",
       "        vertical-align: middle;\n",
       "    }\n",
       "\n",
       "    .dataframe tbody tr th {\n",
       "        vertical-align: top;\n",
       "    }\n",
       "\n",
       "    .dataframe thead th {\n",
       "        text-align: right;\n",
       "    }\n",
       "</style>\n",
       "<table border=\"1\" class=\"dataframe\">\n",
       "  <thead>\n",
       "    <tr style=\"text-align: right;\">\n",
       "      <th></th>\n",
       "      <th>latitutde</th>\n",
       "      <th>longitude</th>\n",
       "      <th>nettaxablevalue</th>\n",
       "    </tr>\n",
       "  </thead>\n",
       "  <tbody>\n",
       "    <tr>\n",
       "      <th>0</th>\n",
       "      <td>34.220220</td>\n",
       "      <td>-118.620669</td>\n",
       "      <td>756000.0</td>\n",
       "    </tr>\n",
       "    <tr>\n",
       "      <th>1</th>\n",
       "      <td>34.220220</td>\n",
       "      <td>-118.620669</td>\n",
       "      <td>771120.0</td>\n",
       "    </tr>\n",
       "    <tr>\n",
       "      <th>2</th>\n",
       "      <td>34.220220</td>\n",
       "      <td>-118.620669</td>\n",
       "      <td>700200.0</td>\n",
       "    </tr>\n",
       "    <tr>\n",
       "      <th>3</th>\n",
       "      <td>34.220220</td>\n",
       "      <td>-118.620669</td>\n",
       "      <td>478600.0</td>\n",
       "    </tr>\n",
       "    <tr>\n",
       "      <th>4</th>\n",
       "      <td>34.220220</td>\n",
       "      <td>-118.620669</td>\n",
       "      <td>478600.0</td>\n",
       "    </tr>\n",
       "    <tr>\n",
       "      <th>...</th>\n",
       "      <td>...</td>\n",
       "      <td>...</td>\n",
       "      <td>...</td>\n",
       "    </tr>\n",
       "    <tr>\n",
       "      <th>995</th>\n",
       "      <td>34.222322</td>\n",
       "      <td>-118.621431</td>\n",
       "      <td>283105.0</td>\n",
       "    </tr>\n",
       "    <tr>\n",
       "      <th>996</th>\n",
       "      <td>34.222322</td>\n",
       "      <td>-118.621431</td>\n",
       "      <td>282434.0</td>\n",
       "    </tr>\n",
       "    <tr>\n",
       "      <th>997</th>\n",
       "      <td>34.222322</td>\n",
       "      <td>-118.621431</td>\n",
       "      <td>284560.0</td>\n",
       "    </tr>\n",
       "    <tr>\n",
       "      <th>998</th>\n",
       "      <td>34.222322</td>\n",
       "      <td>-118.621431</td>\n",
       "      <td>290250.0</td>\n",
       "    </tr>\n",
       "    <tr>\n",
       "      <th>999</th>\n",
       "      <td>34.222322</td>\n",
       "      <td>-118.621431</td>\n",
       "      <td>296054.0</td>\n",
       "    </tr>\n",
       "  </tbody>\n",
       "</table>\n",
       "<p>1000 rows × 3 columns</p>\n",
       "</div>"
      ],
      "text/plain": [
       "     latitutde   longitude  nettaxablevalue\n",
       "0    34.220220 -118.620669         756000.0\n",
       "1    34.220220 -118.620669         771120.0\n",
       "2    34.220220 -118.620669         700200.0\n",
       "3    34.220220 -118.620669         478600.0\n",
       "4    34.220220 -118.620669         478600.0\n",
       "..         ...         ...              ...\n",
       "995  34.222322 -118.621431         283105.0\n",
       "996  34.222322 -118.621431         282434.0\n",
       "997  34.222322 -118.621431         284560.0\n",
       "998  34.222322 -118.621431         290250.0\n",
       "999  34.222322 -118.621431         296054.0\n",
       "\n",
       "[1000 rows x 3 columns]"
      ]
     },
     "execution_count": 91,
     "metadata": {},
     "output_type": "execute_result"
    }
   ],
   "source": [
    "df"
   ]
  },
  {
   "cell_type": "code",
   "execution_count": 92,
   "id": "b79a6c51-f4a1-49de-9327-53e6090b0857",
   "metadata": {},
   "outputs": [],
   "source": [
    "from sklearn.model_selection import train_test_split"
   ]
  },
  {
   "cell_type": "code",
   "execution_count": 93,
   "id": "ff85b612-d7ba-4d94-99f4-f28ad2afd6b9",
   "metadata": {},
   "outputs": [],
   "source": [
    "train, test = train_test_split(df,test_size=0.3)"
   ]
  },
  {
   "cell_type": "code",
   "execution_count": 94,
   "id": "187fd3d9-bc0c-4772-8117-47ecd81cdc80",
   "metadata": {},
   "outputs": [],
   "source": [
    "x_train, y_train, x_test, y_test = train, train, test, test"
   ]
  },
  {
   "cell_type": "code",
   "execution_count": 95,
   "id": "73c09fec-87a5-4800-9cf6-6f6adf8ccad0",
   "metadata": {},
   "outputs": [],
   "source": [
    "from sklearn.preprocessing import MinMaxScaler"
   ]
  },
  {
   "cell_type": "code",
   "execution_count": 96,
   "id": "049eaf4d-81d0-4d6b-b9f9-92ca0bc81342",
   "metadata": {},
   "outputs": [],
   "source": [
    "scaler = MinMaxScaler(feature_range=(0,1))"
   ]
  },
  {
   "cell_type": "code",
   "execution_count": 97,
   "id": "22d95d91-b32f-4be6-a5e5-4c16b0557c11",
   "metadata": {},
   "outputs": [],
   "source": [
    "x_train_scaled = scaler.fit_transform(x_train)\n",
    "x_train = pd.DataFrame(x_train_scaled)\n",
    "\n",
    "x_test_scaled = scaler.fit_transform(x_test)\n",
    "x_test = pd.DataFrame(x_test_scaled)"
   ]
  },
  {
   "cell_type": "code",
   "execution_count": 98,
   "id": "15a86c52-1217-4144-ae59-f141b7892456",
   "metadata": {},
   "outputs": [],
   "source": [
    "from sklearn import neighbors\n",
    "from sklearn.metrics import mean_squared_error\n",
    "from math import sqrt"
   ]
  },
  {
   "cell_type": "code",
   "execution_count": 99,
   "id": "184db429-035e-436c-84cd-09f7f1a6829c",
   "metadata": {},
   "outputs": [
    {
     "name": "stdout",
     "output_type": "stream",
     "text": [
      "RMSE value for K=  1 is: 19854.47578977261\n",
      "RMSE value for K=  2 is: 18190.222530051076\n",
      "RMSE value for K=  3 is: 17134.426845234466\n",
      "RMSE value for K=  4 is: 16765.893008146777\n",
      "RMSE value for K=  5 is: 16610.826364355133\n",
      "RMSE value for K=  6 is: 16308.62297284197\n",
      "RMSE value for K=  7 is: 16083.500333313663\n",
      "RMSE value for K=  8 is: 15999.242126022742\n",
      "RMSE value for K=  9 is: 15886.478040512115\n",
      "RMSE value for K=  10 is: 16335.546494534552\n",
      "RMSE value for K=  11 is: 16579.785216031134\n",
      "RMSE value for K=  12 is: 16843.540266953707\n",
      "RMSE value for K=  13 is: 17134.657860869396\n",
      "RMSE value for K=  14 is: 17550.332298925394\n",
      "RMSE value for K=  15 is: 18158.7610312212\n",
      "RMSE value for K=  16 is: 18642.163882846213\n",
      "RMSE value for K=  17 is: 19458.09871542873\n",
      "RMSE value for K=  18 is: 20074.68355322638\n",
      "RMSE value for K=  19 is: 20465.796467633383\n",
      "RMSE value for K=  20 is: 21005.69679340524\n"
     ]
    }
   ],
   "source": [
    "rmse_val = []\n",
    "for K in range(20):\n",
    "    K += 1\n",
    "    model = neighbors.KNeighborsRegressor(n_neighbors=K)\n",
    "    \n",
    "    model.fit(x_train,y_train)\n",
    "    pred = model.predict(x_test)\n",
    "    error = sqrt(mean_squared_error(y_test,pred))\n",
    "    rmse_val.append(error)\n",
    "    print('RMSE value for K= ', K, 'is:', error)"
   ]
  },
  {
   "cell_type": "markdown",
   "id": "7f14130d-2f54-4462-afa7-af6eb52a2e0d",
   "metadata": {},
   "source": [
    "### We get the lowest RMSE at K=9"
   ]
  },
  {
   "cell_type": "code",
   "execution_count": 100,
   "id": "b6fdcb33-a8a3-4faf-9e7e-092e9306c9fc",
   "metadata": {},
   "outputs": [
    {
     "data": {
      "text/plain": [
       "<AxesSubplot:>"
      ]
     },
     "execution_count": 100,
     "metadata": {},
     "output_type": "execute_result"
    },
    {
     "data": {
      "image/png": "[encoded data removed]",
      "text/plain": [
       "<Figure size 432x288 with 1 Axes>"
      ]
     },
     "metadata": {
      "needs_background": "light"
     },
     "output_type": "display_data"
    }
   ],
   "source": [
    "curve = pd.DataFrame(rmse_val)\n",
    "curve.plot()"
   ]
  },
  {
   "cell_type": "code",
   "execution_count": 102,
   "id": "82df29a7-e34e-45ba-9253-ccd076cc4153",
   "metadata": {},
   "outputs": [
    {
     "data": {
      "text/plain": [
       "Text(0, 0.5, 'Error Rate')"
      ]
     },
     "execution_count": 102,
     "metadata": {},
     "output_type": "execute_result"
    },
    {
     "data": {
      "image/png": "[encoded data removed]",
      "text/plain": [
       "<Figure size 720x432 with 1 Axes>"
      ]
     },
     "metadata": {
      "needs_background": "light"
     },
     "output_type": "display_data"
    }
   ],
   "source": [
    "plt.figure(figsize=(10,6))\n",
    "plt.plot(range(0,20),rmse_val,color='blue', linestyle='dashed', marker='o',\n",
    "         markerfacecolor='red', markersize=10)\n",
    "plt.title('Error Rate vs. K Value')\n",
    "plt.xlabel('K')\n",
    "plt.ylabel('Error Rate')"
   ]
  },
  {
   "cell_type": "code",
   "execution_count": null,
   "id": "79bf78a5-5632-4897-b8ce-fe7fc0926d7a",
   "metadata": {},
   "outputs": [],
   "source": []
  }
 ],
 "metadata": {
  "kernelspec": {
   "display_name": "Python 3",
   "language": "python",
   "name": "python3"
  },
  "language_info": {
   "codemirror_mode": {
    "name": "ipython",
    "version": 3
   },
   "file_extension": ".py",
   "mimetype": "text/x-python",
   "name": "python",
   "nbconvert_exporter": "python",
   "pygments_lexer": "ipython3",
   "version": "3.8.10"
  }
 },
 "nbformat": 4,
 "nbformat_minor": 5
}
