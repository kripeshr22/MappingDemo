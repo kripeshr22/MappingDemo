{
 "cells": [
  {
   "cell_type": "code",
   "execution_count": 1,
   "id": "3c6fd19a",
   "metadata": {},
   "outputs": [],
   "source": [
    "import numpy as np\n",
    "import pandas as pd\n",
    "import psycopg2\n",
    "from psycopg2.extras import execute_values"
   ]
  },
  {
   "cell_type": "code",
   "execution_count": 2,
   "id": "1dad4c55",
   "metadata": {},
   "outputs": [],
   "source": [
    "import matplotlib.pyplot as plt"
   ]
  },
  {
   "cell_type": "code",
   "execution_count": 3,
   "id": "b2802bf9",
   "metadata": {},
   "outputs": [
    {
     "name": "stdout",
     "output_type": "stream",
     "text": [
      "successfully connected to database\n"
     ]
    }
   ],
   "source": [
    "# Connect to Heroku database\n",
    "try:\n",
    "        conn = psycopg2.connect(host='ec2-52-201-66-148.compute-1.amazonaws.com', database='d44ns4ruujn4nq', port=5432,\n",
    "                                user='ub5debmb55aodh', password='pe6a56f3002c3f1181d1a34e26d9a90636fdd56e1156bf39a6b8ff158a49bf163')\n",
    "        print(\"successfully connected to database\")\n",
    "except:\n",
    "        print(\"I am unable to connect to the database\")"
   ]
  },
  {
   "cell_type": "code",
   "execution_count": 4,
   "id": "05a288ee",
   "metadata": {},
   "outputs": [
    {
     "name": "stdout",
     "output_type": "stream",
     "text": [
      "query successful\n",
      "[('53135', '5361010', '2017', '33.985062650000003', '-117.84578183000001'), ('35582', '1548930', '1998', '33.984886459999998', '-117.84443419'), ('20748', '2144404', '2017', '33.984520269999997', '-117.84567337999999'), ('21300', '2831268', '2014', '33.969803720000002', '-117.84968676'), ('9145', '1421739', '2016', '33.986564299999998', '-117.84388033'), ('22080', '545804', '1998', '33.985976469999997', '-117.8440932'), ('68715', '7000000', '2006', '33.984608369999997', '-117.8472929'), ('9230', '715449', '1998', '33.985513949999998', '-117.84420249'), ('0', '2186863', '2019', '33.988427969999996', '-117.89380946999999'), ('1398', '35183', '1975', '33.9953231', '-117.88468788')]\n"
     ]
    }
   ],
   "source": [
    "# Get sample data from table\n",
    "cur = conn.cursor()\n",
    "\n",
    "get_cols_query = \"SELECT sqftmain, roll_landvalue, roll_landbaseyear, center_lat, center_lon from rawparceltable;\"\n",
    "sample_data = [];\n",
    "try: \n",
    "    cur.execute(get_cols_query)\n",
    "    sample_data = cur.fetchall()\n",
    "    \n",
    "    print(\"query successful\")\n",
    "except:\n",
    "    print(\"query failed\")\n",
    "\n",
    "    \n",
    "print(sample_data[0:10])"
   ]
  },
  {
   "cell_type": "code",
   "execution_count": 5,
   "id": "da7247d3",
   "metadata": {},
   "outputs": [],
   "source": [
    "# Create dataframe from sample_data\n",
    "df = pd.DataFrame(sample_data, columns=['sqftmain', 'roll_landvalue', 'roll_landbaseyear', 'center_lat', 'center_lon'])"
   ]
  },
  {
   "cell_type": "code",
   "execution_count": 6,
   "id": "d78d77ae",
   "metadata": {},
   "outputs": [
    {
     "data": {
      "text/html": [
       "<div>\n",
       "<style scoped>\n",
       "    .dataframe tbody tr th:only-of-type {\n",
       "        vertical-align: middle;\n",
       "    }\n",
       "\n",
       "    .dataframe tbody tr th {\n",
       "        vertical-align: top;\n",
       "    }\n",
       "\n",
       "    .dataframe thead th {\n",
       "        text-align: right;\n",
       "    }\n",
       "</style>\n",
       "<table border=\"1\" class=\"dataframe\">\n",
       "  <thead>\n",
       "    <tr style=\"text-align: right;\">\n",
       "      <th></th>\n",
       "      <th>sqftmain</th>\n",
       "      <th>roll_landvalue</th>\n",
       "      <th>roll_landbaseyear</th>\n",
       "      <th>center_lat</th>\n",
       "      <th>center_lon</th>\n",
       "      <th>landvaluepersqft</th>\n",
       "    </tr>\n",
       "  </thead>\n",
       "  <tbody>\n",
       "    <tr>\n",
       "      <th>0</th>\n",
       "      <td>53135.0</td>\n",
       "      <td>5361010.0</td>\n",
       "      <td>2017</td>\n",
       "      <td>33.985063</td>\n",
       "      <td>-117.845782</td>\n",
       "      <td>100.894138</td>\n",
       "    </tr>\n",
       "    <tr>\n",
       "      <th>1</th>\n",
       "      <td>35582.0</td>\n",
       "      <td>1548930.0</td>\n",
       "      <td>1998</td>\n",
       "      <td>33.984886</td>\n",
       "      <td>-117.844434</td>\n",
       "      <td>43.531280</td>\n",
       "    </tr>\n",
       "    <tr>\n",
       "      <th>2</th>\n",
       "      <td>20748.0</td>\n",
       "      <td>2144404.0</td>\n",
       "      <td>2017</td>\n",
       "      <td>33.984520</td>\n",
       "      <td>-117.845673</td>\n",
       "      <td>103.354733</td>\n",
       "    </tr>\n",
       "    <tr>\n",
       "      <th>3</th>\n",
       "      <td>21300.0</td>\n",
       "      <td>2831268.0</td>\n",
       "      <td>2014</td>\n",
       "      <td>33.969804</td>\n",
       "      <td>-117.849687</td>\n",
       "      <td>132.923380</td>\n",
       "    </tr>\n",
       "    <tr>\n",
       "      <th>4</th>\n",
       "      <td>9145.0</td>\n",
       "      <td>1421739.0</td>\n",
       "      <td>2016</td>\n",
       "      <td>33.986564</td>\n",
       "      <td>-117.843880</td>\n",
       "      <td>155.466266</td>\n",
       "    </tr>\n",
       "    <tr>\n",
       "      <th>...</th>\n",
       "      <td>...</td>\n",
       "      <td>...</td>\n",
       "      <td>...</td>\n",
       "      <td>...</td>\n",
       "      <td>...</td>\n",
       "      <td>...</td>\n",
       "    </tr>\n",
       "    <tr>\n",
       "      <th>887</th>\n",
       "      <td>1750.0</td>\n",
       "      <td>151554.0</td>\n",
       "      <td>2020</td>\n",
       "      <td>34.122579</td>\n",
       "      <td>-117.871441</td>\n",
       "      <td>86.602286</td>\n",
       "    </tr>\n",
       "    <tr>\n",
       "      <th>888</th>\n",
       "      <td>2280.0</td>\n",
       "      <td>299783.0</td>\n",
       "      <td>2015</td>\n",
       "      <td>34.130483</td>\n",
       "      <td>-117.866949</td>\n",
       "      <td>131.483772</td>\n",
       "    </tr>\n",
       "    <tr>\n",
       "      <th>889</th>\n",
       "      <td>49920.0</td>\n",
       "      <td>2621753.0</td>\n",
       "      <td>2014</td>\n",
       "      <td>34.133712</td>\n",
       "      <td>-117.871951</td>\n",
       "      <td>52.519091</td>\n",
       "    </tr>\n",
       "    <tr>\n",
       "      <th>890</th>\n",
       "      <td>3040.0</td>\n",
       "      <td>110042.0</td>\n",
       "      <td>1984</td>\n",
       "      <td>34.106922</td>\n",
       "      <td>-117.866998</td>\n",
       "      <td>36.198026</td>\n",
       "    </tr>\n",
       "    <tr>\n",
       "      <th>891</th>\n",
       "      <td>6915.0</td>\n",
       "      <td>123434.0</td>\n",
       "      <td>1979</td>\n",
       "      <td>34.113611</td>\n",
       "      <td>-117.872204</td>\n",
       "      <td>17.850181</td>\n",
       "    </tr>\n",
       "  </tbody>\n",
       "</table>\n",
       "<p>892 rows × 6 columns</p>\n",
       "</div>"
      ],
      "text/plain": [
       "     sqftmain  roll_landvalue  roll_landbaseyear  center_lat  center_lon  \\\n",
       "0     53135.0       5361010.0               2017   33.985063 -117.845782   \n",
       "1     35582.0       1548930.0               1998   33.984886 -117.844434   \n",
       "2     20748.0       2144404.0               2017   33.984520 -117.845673   \n",
       "3     21300.0       2831268.0               2014   33.969804 -117.849687   \n",
       "4      9145.0       1421739.0               2016   33.986564 -117.843880   \n",
       "..        ...             ...                ...         ...         ...   \n",
       "887    1750.0        151554.0               2020   34.122579 -117.871441   \n",
       "888    2280.0        299783.0               2015   34.130483 -117.866949   \n",
       "889   49920.0       2621753.0               2014   34.133712 -117.871951   \n",
       "890    3040.0        110042.0               1984   34.106922 -117.866998   \n",
       "891    6915.0        123434.0               1979   34.113611 -117.872204   \n",
       "\n",
       "     landvaluepersqft  \n",
       "0          100.894138  \n",
       "1           43.531280  \n",
       "2          103.354733  \n",
       "3          132.923380  \n",
       "4          155.466266  \n",
       "..                ...  \n",
       "887         86.602286  \n",
       "888        131.483772  \n",
       "889         52.519091  \n",
       "890         36.198026  \n",
       "891         17.850181  \n",
       "\n",
       "[892 rows x 6 columns]"
      ]
     },
     "execution_count": 6,
     "metadata": {},
     "output_type": "execute_result"
    }
   ],
   "source": [
    "# Change data type to int and float\n",
    "for col in df:\n",
    "    if col == 'roll_landbaseyear':\n",
    "        df[col] = df[col].astype(int)\n",
    "    else:\n",
    "        df[col] = df[col].astype(float)\n",
    "\n",
    "# Add land value per square foot to dataframe\n",
    "df['landvaluepersqft'] = df['roll_landvalue']/df['sqftmain']\n",
    "df"
   ]
  },
  {
   "cell_type": "code",
   "execution_count": 8,
   "id": "a11d346f",
   "metadata": {},
   "outputs": [
    {
     "data": {
      "text/html": [
       "<div>\n",
       "<style scoped>\n",
       "    .dataframe tbody tr th:only-of-type {\n",
       "        vertical-align: middle;\n",
       "    }\n",
       "\n",
       "    .dataframe tbody tr th {\n",
       "        vertical-align: top;\n",
       "    }\n",
       "\n",
       "    .dataframe thead th {\n",
       "        text-align: right;\n",
       "    }\n",
       "</style>\n",
       "<table border=\"1\" class=\"dataframe\">\n",
       "  <thead>\n",
       "    <tr style=\"text-align: right;\">\n",
       "      <th></th>\n",
       "      <th>sqftmain</th>\n",
       "      <th>roll_landvalue</th>\n",
       "      <th>roll_landbaseyear</th>\n",
       "      <th>center_lat</th>\n",
       "      <th>center_lon</th>\n",
       "      <th>landvaluepersqft</th>\n",
       "    </tr>\n",
       "  </thead>\n",
       "  <tbody>\n",
       "    <tr>\n",
       "      <th>0</th>\n",
       "      <td>53135.0</td>\n",
       "      <td>5361010.0</td>\n",
       "      <td>2017</td>\n",
       "      <td>33.985063</td>\n",
       "      <td>-117.845782</td>\n",
       "      <td>100.894138</td>\n",
       "    </tr>\n",
       "    <tr>\n",
       "      <th>1</th>\n",
       "      <td>35582.0</td>\n",
       "      <td>1548930.0</td>\n",
       "      <td>1998</td>\n",
       "      <td>33.984886</td>\n",
       "      <td>-117.844434</td>\n",
       "      <td>43.531280</td>\n",
       "    </tr>\n",
       "    <tr>\n",
       "      <th>2</th>\n",
       "      <td>20748.0</td>\n",
       "      <td>2144404.0</td>\n",
       "      <td>2017</td>\n",
       "      <td>33.984520</td>\n",
       "      <td>-117.845673</td>\n",
       "      <td>103.354733</td>\n",
       "    </tr>\n",
       "    <tr>\n",
       "      <th>3</th>\n",
       "      <td>21300.0</td>\n",
       "      <td>2831268.0</td>\n",
       "      <td>2014</td>\n",
       "      <td>33.969804</td>\n",
       "      <td>-117.849687</td>\n",
       "      <td>132.923380</td>\n",
       "    </tr>\n",
       "    <tr>\n",
       "      <th>4</th>\n",
       "      <td>9145.0</td>\n",
       "      <td>1421739.0</td>\n",
       "      <td>2016</td>\n",
       "      <td>33.986564</td>\n",
       "      <td>-117.843880</td>\n",
       "      <td>155.466266</td>\n",
       "    </tr>\n",
       "    <tr>\n",
       "      <th>...</th>\n",
       "      <td>...</td>\n",
       "      <td>...</td>\n",
       "      <td>...</td>\n",
       "      <td>...</td>\n",
       "      <td>...</td>\n",
       "      <td>...</td>\n",
       "    </tr>\n",
       "    <tr>\n",
       "      <th>887</th>\n",
       "      <td>1750.0</td>\n",
       "      <td>151554.0</td>\n",
       "      <td>2020</td>\n",
       "      <td>34.122579</td>\n",
       "      <td>-117.871441</td>\n",
       "      <td>86.602286</td>\n",
       "    </tr>\n",
       "    <tr>\n",
       "      <th>888</th>\n",
       "      <td>2280.0</td>\n",
       "      <td>299783.0</td>\n",
       "      <td>2015</td>\n",
       "      <td>34.130483</td>\n",
       "      <td>-117.866949</td>\n",
       "      <td>131.483772</td>\n",
       "    </tr>\n",
       "    <tr>\n",
       "      <th>889</th>\n",
       "      <td>49920.0</td>\n",
       "      <td>2621753.0</td>\n",
       "      <td>2014</td>\n",
       "      <td>34.133712</td>\n",
       "      <td>-117.871951</td>\n",
       "      <td>52.519091</td>\n",
       "    </tr>\n",
       "    <tr>\n",
       "      <th>890</th>\n",
       "      <td>3040.0</td>\n",
       "      <td>110042.0</td>\n",
       "      <td>1984</td>\n",
       "      <td>34.106922</td>\n",
       "      <td>-117.866998</td>\n",
       "      <td>36.198026</td>\n",
       "    </tr>\n",
       "    <tr>\n",
       "      <th>891</th>\n",
       "      <td>6915.0</td>\n",
       "      <td>123434.0</td>\n",
       "      <td>1979</td>\n",
       "      <td>34.113611</td>\n",
       "      <td>-117.872204</td>\n",
       "      <td>17.850181</td>\n",
       "    </tr>\n",
       "  </tbody>\n",
       "</table>\n",
       "<p>710 rows × 6 columns</p>\n",
       "</div>"
      ],
      "text/plain": [
       "     sqftmain  roll_landvalue  roll_landbaseyear  center_lat  center_lon  \\\n",
       "0     53135.0       5361010.0               2017   33.985063 -117.845782   \n",
       "1     35582.0       1548930.0               1998   33.984886 -117.844434   \n",
       "2     20748.0       2144404.0               2017   33.984520 -117.845673   \n",
       "3     21300.0       2831268.0               2014   33.969804 -117.849687   \n",
       "4      9145.0       1421739.0               2016   33.986564 -117.843880   \n",
       "..        ...             ...                ...         ...         ...   \n",
       "887    1750.0        151554.0               2020   34.122579 -117.871441   \n",
       "888    2280.0        299783.0               2015   34.130483 -117.866949   \n",
       "889   49920.0       2621753.0               2014   34.133712 -117.871951   \n",
       "890    3040.0        110042.0               1984   34.106922 -117.866998   \n",
       "891    6915.0        123434.0               1979   34.113611 -117.872204   \n",
       "\n",
       "     landvaluepersqft  \n",
       "0          100.894138  \n",
       "1           43.531280  \n",
       "2          103.354733  \n",
       "3          132.923380  \n",
       "4          155.466266  \n",
       "..                ...  \n",
       "887         86.602286  \n",
       "888        131.483772  \n",
       "889         52.519091  \n",
       "890         36.198026  \n",
       "891         17.850181  \n",
       "\n",
       "[710 rows x 6 columns]"
      ]
     },
     "execution_count": 8,
     "metadata": {},
     "output_type": "execute_result"
    }
   ],
   "source": [
    "# Clean data\n",
    "df= df[df['sqftmain'] != 0]\n",
    "df= df[df['landvaluepersqft'] < 500]\n",
    "df"
   ]
  },
  {
   "cell_type": "code",
   "execution_count": 9,
   "id": "f8aea5a6",
   "metadata": {},
   "outputs": [],
   "source": [
    "from sklearn.model_selection import train_test_split\n",
    "from sklearn.neighbors import KNeighborsRegressor\n",
    "from sklearn.metrics import mean_squared_error\n",
    "from math import sqrt"
   ]
  },
  {
   "cell_type": "code",
   "execution_count": 10,
   "id": "d9ff7f4f",
   "metadata": {},
   "outputs": [],
   "source": [
    "# Set dependent and independent variables\n",
    "X = pd.DataFrame(df[['roll_landbaseyear','center_lat', 'center_lon']])\n",
    "y = pd.DataFrame(df['landvaluepersqft']) "
   ]
  },
  {
   "cell_type": "code",
   "execution_count": 11,
   "id": "98997986",
   "metadata": {},
   "outputs": [],
   "source": [
    "# Split data randomly - 30% used for test data; 70% used for training data\n",
    "X_train, X_test, y_train, y_test = train_test_split(X, y, test_size=0.3, random_state=42)"
   ]
  },
  {
   "cell_type": "code",
   "execution_count": 12,
   "id": "917dc7be",
   "metadata": {},
   "outputs": [
    {
     "data": {
      "text/plain": [
       "KNeighborsRegressor(n_neighbors=10)"
      ]
     },
     "execution_count": 12,
     "metadata": {},
     "output_type": "execute_result"
    }
   ],
   "source": [
    "# Create kNN Model\n",
    "knn= KNeighborsRegressor(n_neighbors=10)\n",
    "knn.fit(X_train,y_train)"
   ]
  },
  {
   "cell_type": "code",
   "execution_count": 13,
   "id": "e03efed5",
   "metadata": {},
   "outputs": [],
   "source": [
    "# Create predictions for test data\n",
    "y_pred = knn.predict(X_test)"
   ]
  },
  {
   "cell_type": "code",
   "execution_count": 14,
   "id": "2ef81a0e",
   "metadata": {},
   "outputs": [
    {
     "data": {
      "image/png": "[encoded data removed]",
      "text/plain": [
       "<Figure size 432x288 with 1 Axes>"
      ]
     },
     "metadata": {
      "needs_background": "light"
     },
     "output_type": "display_data"
    }
   ],
   "source": [
    "# Evaluate model\n",
    "plt.scatter(X_test['roll_landbaseyear'], y_test, color=\"darkorange\", label=\"data\")\n",
    "plt.scatter(X_test['roll_landbaseyear'], y_pred, color=\"navy\", label=\"prediction\")\n",
    "plt.axis(\"tight\")\n",
    "plt.legend()\n",
    "plt.title(\"KNN Algorithm (k=5) on sample data\")\n",
    "plt.show()"
   ]
  },
  {
   "cell_type": "code",
   "execution_count": 19,
   "id": "da70f4fa",
   "metadata": {},
   "outputs": [
    {
     "data": {
      "image/png": "[encoded data removed]",
      "text/plain": [
       "<Figure size 432x288 with 1 Axes>"
      ]
     },
     "metadata": {
      "needs_background": "light"
     },
     "output_type": "display_data"
    }
   ],
   "source": [
    "ax = plt.axes(projection='3d')\n",
    "ax.scatter3D(X_test['center_lat'], X_test['center_lon'], y_test, color=\"darkorange\", label=\"data\")\n",
    "ax.scatter3D(X_test['center_lat'], X_test['center_lon'], y_pred, color=\"navy\", label=\"prediction\")\n",
    "plt.show()"
   ]
  },
  {
   "cell_type": "code",
   "execution_count": 15,
   "id": "b9422655",
   "metadata": {},
   "outputs": [
    {
     "data": {
      "text/plain": [
       "86.27536648583647"
      ]
     },
     "execution_count": 15,
     "metadata": {},
     "output_type": "execute_result"
    }
   ],
   "source": [
    "error = sqrt(mean_squared_error(y_test,y_pred))\n",
    "error"
   ]
  },
  {
   "cell_type": "code",
   "execution_count": null,
   "id": "d410aa7b",
   "metadata": {},
   "outputs": [],
   "source": []
  }
 ],
 "metadata": {
  "kernelspec": {
   "display_name": "Python 3",
   "language": "python",
   "name": "python3"
  },
  "language_info": {
   "codemirror_mode": {
    "name": "ipython",
    "version": 3
   },
   "file_extension": ".py",
   "mimetype": "text/x-python",
   "name": "python",
   "nbconvert_exporter": "python",
   "pygments_lexer": "ipython3",
   "version": "3.8.8"
  }
 },
 "nbformat": 4,
 "nbformat_minor": 5
}
